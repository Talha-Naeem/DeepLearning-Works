{
 "cells": [
  {
   "cell_type": "markdown",
   "metadata": {
    "colab_type": "text",
    "id": "iQjHqsmTAVLU"
   },
   "source": [
    "## Exercise 3\n",
    "In the videos you looked at how you would improve Fashion MNIST using Convolutions. For your exercise see if you can improve MNIST to 99.8% accuracy or more using only a single convolutional layer and a single MaxPooling 2D. You should stop training once the accuracy goes above this amount. It should happen in less than 20 epochs, so it's ok to hard code the number of epochs for training, but your training must end once it hits the above metric. If it doesn't, then you'll need to redesign your layers.\n",
    "\n",
    "I've started the code for you -- you need to finish it!\n",
    "\n",
    "When 99.8% accuracy has been hit, you should print out the string \"Reached 99.8% accuracy so cancelling training!\"\n"
   ]
  },
  {
   "cell_type": "code",
   "execution_count": 1,
   "metadata": {},
   "outputs": [],
   "source": [
    "import tensorflow as tf\n",
    "from os import path, getcwd, chdir\n",
    "\n",
    "# DO NOT CHANGE THE LINE BELOW. If you are developing in a local\n",
    "# environment, then grab mnist.npz from the Coursera Jupyter Notebook\n",
    "# and place it inside a local folder and edit the path to that location\n",
    "path = f\"{getcwd()}/../tmp2/mnist.npz\""
   ]
  },
  {
   "cell_type": "code",
   "execution_count": 2,
   "metadata": {},
   "outputs": [],
   "source": [
    "config = tf.ConfigProto()\n",
    "config.gpu_options.allow_growth = True\n",
    "sess = tf.Session(config=config)"
   ]
  },
  {
   "cell_type": "code",
   "execution_count": 39,
   "metadata": {},
   "outputs": [],
   "source": [
    "# GRADED FUNCTION: train_mnist_conv\n",
    "def train_mnist_conv():\n",
    "    # Please write your code only where you are indicated.\n",
    "    # please do not remove model fitting inline comments.\n",
    "\n",
    "    # YOUR CODE STARTS HERE\n",
    "     class myCallback(tf.keras.callbacks.Callback):\n",
    "        def on_epoch_end(self, epoch, logs={}):\n",
    "            if(logs.get('acc') > .998):\n",
    "                print(\"\\nReached 99.8% accuracy so cancelling training!\")\n",
    "                self.model.stop_training = True\n",
    "     callbacks = myCallback() \n",
    "    \n",
    "    # YOUR CODE ENDS HERE\n",
    "\n",
    "     mnist = tf.keras.datasets.mnist\n",
    "     (training_images, training_labels), (test_images, test_labels) = mnist.load_data(path=path)\n",
    "    # YOUR CODE STARTS HERE\n",
    "     training_images=training_images.reshape(60000, 28, 28, 1)\n",
    "     training_images=training_images / 255.0\n",
    "     test_images = test_images.reshape(10000, 28, 28, 1)\n",
    "     test_images=test_images/255.0\n",
    "\n",
    "\n",
    "    # YOUR CODE ENDS HERE\n",
    "\n",
    "     model = tf.keras.models.Sequential([\n",
    "            # YOUR CODE STARTS HERE\n",
    "         tf.keras.layers.Conv2D(32, (3,3), activation='relu', input_shape=(28, 28, 1)),\n",
    "         tf.keras.layers.MaxPooling2D(2, 2),\n",
    "            \n",
    "         tf.keras.layers.Conv2D(64, (3,3), activation='relu'),\n",
    "         tf.keras.layers.MaxPooling2D(2,2),\n",
    "        \n",
    "         tf.keras.layers.Flatten(),\n",
    "         tf.keras.layers.Dense(128, activation='relu'),\n",
    "         tf.keras.layers.Dense(10, activation='softmax')])\n",
    "\n",
    "     model.compile(optimizer='adam', loss='sparse_categorical_crossentropy', metrics=['accuracy'])\n",
    "    # model fitting\n",
    "     history = model.fit(\n",
    "        # YOUR CODE STARTS HERE\n",
    "         training_images, training_labels, epochs=19)\n",
    "\n",
    "        # YOUR CODE ENDS HERE\n",
    "    \n",
    "    # model fitting\n",
    "     return history.epoch, history.history['acc'][-1]\n",
    "\n"
   ]
  },
  {
   "cell_type": "code",
   "execution_count": 40,
   "metadata": {},
   "outputs": [
    {
     "name": "stderr",
     "output_type": "stream",
     "text": [
      "WARNING: Logging before flag parsing goes to stderr.\n",
      "W0422 11:02:47.540937 140584011462464 deprecation.py:506] From /usr/local/lib/python3.6/dist-packages/tensorflow/python/ops/init_ops.py:1251: calling VarianceScaling.__init__ (from tensorflow.python.ops.init_ops) with dtype is deprecated and will be removed in a future version.\n",
      "Instructions for updating:\n",
      "Call initializer instance with the dtype argument instead of passing it to the constructor\n"
     ]
    },
    {
     "name": "stdout",
     "output_type": "stream",
     "text": [
      "Epoch 1/19\n",
      "60000/60000 [==============================] - 23s 383us/sample - loss: 0.1273 - acc: 0.9603\n",
      "Epoch 2/19\n",
      "60000/60000 [==============================] - 19s 318us/sample - loss: 0.0403 - acc: 0.9871\n",
      "Epoch 3/19\n",
      "60000/60000 [==============================] - 19s 320us/sample - loss: 0.0278 - acc: 0.9914\n",
      "Epoch 4/19\n",
      "60000/60000 [==============================] - 19s 318us/sample - loss: 0.0191 - acc: 0.9944\n",
      "Epoch 5/19\n",
      "60000/60000 [==============================] - 19s 315us/sample - loss: 0.0156 - acc: 0.9949\n",
      "Epoch 6/19\n",
      "60000/60000 [==============================] - 19s 317us/sample - loss: 0.0124 - acc: 0.9963\n",
      "Epoch 7/19\n",
      "60000/60000 [==============================] - 19s 317us/sample - loss: 0.0092 - acc: 0.9969\n",
      "Epoch 8/19\n",
      "60000/60000 [==============================] - 19s 317us/sample - loss: 0.0068 - acc: 0.9978\n",
      "Epoch 9/19\n",
      "60000/60000 [==============================] - 19s 318us/sample - loss: 0.0070 - acc: 0.9977\n",
      "Epoch 10/19\n",
      "60000/60000 [==============================] - 19s 316us/sample - loss: 0.0060 - acc: 0.9981\n",
      "Epoch 11/19\n",
      "60000/60000 [==============================] - 22s 365us/sample - loss: 0.0053 - acc: 0.9981\n",
      "Epoch 12/19\n",
      "60000/60000 [==============================] - 23s 377us/sample - loss: 0.0051 - acc: 0.9982\n",
      "Epoch 13/19\n",
      "60000/60000 [==============================] - 22s 375us/sample - loss: 0.0047 - acc: 0.9984\n",
      "Epoch 14/19\n",
      "60000/60000 [==============================] - 22s 372us/sample - loss: 0.0038 - acc: 0.9988\n",
      "Epoch 15/19\n",
      "60000/60000 [==============================] - 22s 372us/sample - loss: 0.0049 - acc: 0.9983\n",
      "Epoch 16/19\n",
      "60000/60000 [==============================] - 23s 375us/sample - loss: 0.0033 - acc: 0.9990\n",
      "Epoch 17/19\n",
      "60000/60000 [==============================] - 22s 373us/sample - loss: 0.0044 - acc: 0.9985\n",
      "Epoch 18/19\n",
      "60000/60000 [==============================] - 22s 371us/sample - loss: 0.0033 - acc: 0.9990\n",
      "Epoch 19/19\n",
      "60000/60000 [==============================] - 22s 370us/sample - loss: 0.0031 - acc: 0.9991\n"
     ]
    }
   ],
   "source": [
    "_, _ = train_mnist_conv()"
   ]
  },
  {
   "cell_type": "code",
   "execution_count": null,
   "metadata": {},
   "outputs": [],
   "source": [
    "# Now click the 'Submit Assignment' button above.\n",
    "# Once that is complete, please run the following two cells to save your work and close the notebook"
   ]
  },
  {
   "cell_type": "code",
   "execution_count": 42,
   "metadata": {},
   "outputs": [
    {
     "data": {
      "application/javascript": [
       "<!-- Save the notebook -->\n",
       "IPython.notebook.save_checkpoint();\n"
      ],
      "text/plain": [
       "<IPython.core.display.Javascript object>"
      ]
     },
     "metadata": {},
     "output_type": "display_data"
    }
   ],
   "source": [
    "%%javascript\n",
    "<!-- Save the notebook -->\n",
    "IPython.notebook.save_checkpoint();"
   ]
  },
  {
   "cell_type": "code",
   "execution_count": null,
   "metadata": {},
   "outputs": [],
   "source": [
    "%%javascript\n",
    "IPython.notebook.session.delete();\n",
    "window.onbeforeunload = null\n",
    "setTimeout(function() { window.close(); }, 1000);"
   ]
  }
 ],
 "metadata": {
  "coursera": {
   "course_slug": "introduction-tensorflow",
   "graded_item_id": "ml06H",
   "launcher_item_id": "hQF8A"
  },
  "kernelspec": {
   "display_name": "Python 3",
   "language": "python",
   "name": "python3"
  },
  "language_info": {
   "codemirror_mode": {
    "name": "ipython",
    "version": 3
   },
   "file_extension": ".py",
   "mimetype": "text/x-python",
   "name": "python",
   "nbconvert_exporter": "python",
   "pygments_lexer": "ipython3",
   "version": "3.6.8"
  }
 },
 "nbformat": 4,
 "nbformat_minor": 1
}
