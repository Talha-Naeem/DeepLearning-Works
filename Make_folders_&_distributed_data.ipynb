{
  "nbformat": 4,
  "nbformat_minor": 0,
  "metadata": {
    "colab": {
      "provenance": []
    },
    "kernelspec": {
      "name": "python3",
      "display_name": "Python 3"
    },
    "language_info": {
      "name": "python"
    }
  },
  "cells": [
    {
      "cell_type": "markdown",
      "source": [
        "**Making folders and distributed data to other folders**"
      ],
      "metadata": {
        "id": "TC2T87yJ4lDz"
      }
    },
    {
      "cell_type": "code",
      "source": [
        "print(len(os.listdir(\"/content/drive/MyDrive/benetech_data/train_main/annotations\")))\n",
        "print(len(os.listdir(\"/content/drive/MyDrive/benetech_data/train_main/images\")))\n",
        "print(len(os.listdir(\"/content/drive/MyDrive/benetech_data/test_main/images\")))"
      ],
      "metadata": {
        "id": "04gCkZRDrFcI"
      },
      "execution_count": null,
      "outputs": []
    },
    {
      "cell_type": "code",
      "source": [
        "train_annottaions_list = os.listdir(\"/content/drive/MyDrive/benetech_data/train_main/annotations/\")\n",
        "train_images_list = os.listdir(\"/content/drive/MyDrive/benetech_data/train_main/images/\")"
      ],
      "metadata": {
        "id": "GB_JRIzA9ALH"
      },
      "execution_count": null,
      "outputs": []
    },
    {
      "cell_type": "code",
      "source": [
        "train_annottaions_codes = []\n",
        "for i in train_annottaions_list:\n",
        "  train_annottaions_codes.append(i.split(\".\")[0])\n",
        "\n",
        "train_annottaions_codes[:5]"
      ],
      "metadata": {
        "colab": {
          "base_uri": "https://localhost:8080/"
        },
        "id": "Y0lRKESTK_fw",
        "outputId": "39ac5b15-1103-4188-d1d2-148540118cfa"
      },
      "execution_count": null,
      "outputs": [
        {
          "output_type": "execute_result",
          "data": {
            "text/plain": [
              "['f17cf5b6d8a5',\n",
              " '79dd9c389605',\n",
              " 'c03e4887978c',\n",
              " 'd09aa8887c78',\n",
              " '27c63e6642ff']"
            ]
          },
          "metadata": {},
          "execution_count": 45
        }
      ]
    },
    {
      "cell_type": "code",
      "source": [
        "val_data_len = 10000\n",
        "test_data_len = 2000"
      ],
      "metadata": {
        "id": "3xsZEXIf9mWm"
      },
      "execution_count": null,
      "outputs": []
    },
    {
      "cell_type": "code",
      "source": [
        "val_data_code = train_annottaions_codes[:val_data_len]\n",
        "test_data_code = train_annottaions_codes[val_data_len:(val_data_len+test_data_len)]\n",
        "train_data_code = train_annottaions_codes[(val_data_len+test_data_len):]\n",
        "print(len(val_data_code))\n",
        "print(len(test_data_code))\n",
        "print(len(train_data_code))"
      ],
      "metadata": {
        "colab": {
          "base_uri": "https://localhost:8080/"
        },
        "id": "LWxb6tmqKJFm",
        "outputId": "7b038fd5-da7f-4923-e0d9-cec6d2cb8ae5"
      },
      "execution_count": null,
      "outputs": [
        {
          "output_type": "stream",
          "name": "stdout",
          "text": [
            "10000\n",
            "2000\n",
            "48578\n"
          ]
        }
      ]
    },
    {
      "cell_type": "code",
      "source": [
        "main_dir = \"/content/drive/MyDrive/benetech_data/\"\n",
        "\n",
        "train_test_val = [\"train\",\"test\",\"val\"]\n",
        "folders  = [\"images\",\"annotations\"]\n",
        "\n",
        "for i in train_test_val:    #run one time to make folders\n",
        "  os.mkdir(main_dir+i)\n",
        "\n",
        "for i in train_test_val:    #run one time to make folders\n",
        "  for j in folders:\n",
        "    os.mkdir(main_dir+i+\"/\"+j)"
      ],
      "metadata": {
        "id": "sYfwUPv7AOru"
      },
      "execution_count": null,
      "outputs": []
    },
    {
      "cell_type": "code",
      "source": [
        "dest_folder_annotations = \"/content/drive/MyDrive/benetech_data/test/annotations/\"\n",
        "dest_folder_images = \"/content/drive/MyDrive/benetech_data/test/images/\"\n",
        "\n",
        "for code in test_data_code:\n",
        "\n",
        "  annotation = code + \".json\"\n",
        "  image = code + \".jpg\"\n",
        "\n",
        "  annotation_file = \"/content/drive/MyDrive/benetech_data/train_main/annotations/\" + annotation\n",
        "  image_path = \"/content/drive/MyDrive/benetech_data/train_main/images/\" + image\n",
        "\n",
        "  shutil.copy(annotation_file, dest_folder_annotations)\n",
        "  shutil.copy(image_path, dest_folder_images)"
      ],
      "metadata": {
        "id": "yRNOUkPryx1E"
      },
      "execution_count": null,
      "outputs": []
    },
    {
      "cell_type": "code",
      "source": [
        "print(len(os.listdir(dest_folder_annotations)))\n",
        "print(len(os.listdir(dest_folder_images)))"
      ],
      "metadata": {
        "id": "v7SQgA_WzBO7"
      },
      "execution_count": null,
      "outputs": []
    },
    {
      "cell_type": "code",
      "source": [
        "os.listdir(dest_folder_annotations)[0] ,os.listdir(dest_folder_annotations)[0]"
      ],
      "metadata": {
        "colab": {
          "base_uri": "https://localhost:8080/"
        },
        "id": "1Be2qED90qJU",
        "outputId": "9598cc19-79ec-46f8-b5dd-b756d65b3f95"
      },
      "execution_count": null,
      "outputs": [
        {
          "output_type": "execute_result",
          "data": {
            "text/plain": [
              "('87586fd39f51.json', '87586fd39f51.json')"
            ]
          },
          "metadata": {},
          "execution_count": 75
        }
      ]
    },
    {
      "cell_type": "code",
      "source": [
        "dest_folder_annotations = \"/content/drive/MyDrive/benetech_data/val/annotations/\"\n",
        "dest_folder_images = \"/content/drive/MyDrive/benetech_data/val/images/\"\n",
        "\n",
        "for code in val_data_code:\n",
        "\n",
        "  annotation = code + \".json\"\n",
        "  image = code + \".jpg\"\n",
        "\n",
        "  annotation_file = \"/content/drive/MyDrive/benetech_data/train_main/annotations/\" + annotation\n",
        "  image_path = \"/content/drive/MyDrive/benetech_data/train_main/images/\" + image\n",
        "\n",
        "  shutil.copy(annotation_file, dest_folder_annotations)\n",
        "  shutil.copy(image_path, dest_folder_images)"
      ],
      "metadata": {
        "id": "tSRfcFvDwiaT"
      },
      "execution_count": null,
      "outputs": []
    },
    {
      "cell_type": "code",
      "source": [
        "print(len(os.listdir(dest_folder_annotations)))\n",
        "print(len(os.listdir(dest_folder_annotations)))"
      ],
      "metadata": {
        "colab": {
          "base_uri": "https://localhost:8080/"
        },
        "id": "jDdezAy8zR4f",
        "outputId": "000f1c19-7ec5-4a95-9457-6ce2392f07b0"
      },
      "execution_count": null,
      "outputs": [
        {
          "output_type": "stream",
          "name": "stdout",
          "text": [
            "10000\n",
            "10000\n"
          ]
        }
      ]
    },
    {
      "cell_type": "code",
      "source": [
        "os.listdir(dest_folder_annotations)[0] ,os.listdir(dest_folder_annotations)[0]"
      ],
      "metadata": {
        "colab": {
          "base_uri": "https://localhost:8080/"
        },
        "id": "X5hdeoiY0SX8",
        "outputId": "8610b58f-48a7-4a65-a2ae-f8062efb96ed"
      },
      "execution_count": null,
      "outputs": [
        {
          "output_type": "execute_result",
          "data": {
            "text/plain": [
              "('f17cf5b6d8a5.json', 'f17cf5b6d8a5.json')"
            ]
          },
          "metadata": {},
          "execution_count": 73
        }
      ]
    },
    {
      "cell_type": "code",
      "source": [
        "dest_folder_annotations = \"/content/drive/MyDrive/benetech_data/train/annotations/\"\n",
        "dest_folder_images = \"/content/drive/MyDrive/benetech_data/train/images/\"\n",
        "\n",
        "for code in train_data_code:\n",
        "\n",
        "  annotation = code + \".json\"\n",
        "  image = code + \".jpg\"\n",
        "\n",
        "  annotation_file = \"/content/drive/MyDrive/benetech_data/train_main/annotations/\" + annotation\n",
        "  image_path = \"/content/drive/MyDrive/benetech_data/train_main/images/\" + image\n",
        "\n",
        "  shutil.copy(annotation_file, dest_folder_annotations)\n",
        "  shutil.copy(image_path, dest_folder_images)"
      ],
      "metadata": {
        "id": "8imI0f38zTZl"
      },
      "execution_count": null,
      "outputs": []
    },
    {
      "cell_type": "code",
      "source": [
        "print(len(os.listdir(dest_folder_annotations)))\n",
        "print(len(os.listdir(dest_folder_images)))"
      ],
      "metadata": {
        "colab": {
          "base_uri": "https://localhost:8080/"
        },
        "id": "JCxS0SOVMd8A",
        "outputId": "5e972c83-b803-40b2-ef09-51fca23f67d2"
      },
      "execution_count": null,
      "outputs": [
        {
          "output_type": "stream",
          "name": "stdout",
          "text": [
            "48578\n",
            "48578\n"
          ]
        }
      ]
    },
    {
      "cell_type": "code",
      "source": [
        "os.listdir(dest_folder_annotations)[0] ,os.listdir(dest_folder_annotations)[0]"
      ],
      "metadata": {
        "colab": {
          "base_uri": "https://localhost:8080/"
        },
        "id": "KKAGowEF0wSn",
        "outputId": "452f8163-facc-4e85-9fcf-9bd72f70ff19"
      },
      "execution_count": null,
      "outputs": [
        {
          "output_type": "execute_result",
          "data": {
            "text/plain": [
              "('c0455b40e93f.json', 'c0455b40e93f.json')"
            ]
          },
          "metadata": {},
          "execution_count": 78
        }
      ]
    }
  ]
}