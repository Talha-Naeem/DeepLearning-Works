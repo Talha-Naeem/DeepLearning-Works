{
  "nbformat": 4,
  "nbformat_minor": 0,
  "metadata": {
    "colab": {
      "name": "Ch 6 from 6.28 to 6.49.ipynb",
      "provenance": [],
      "authorship_tag": "ABX9TyOUdrBoGo3jXvQNo1NxE1+P",
      "include_colab_link": true
    },
    "kernelspec": {
      "name": "python3",
      "display_name": "Python 3"
    },
    "accelerator": "TPU"
  },
  "cells": [
    {
      "cell_type": "markdown",
      "metadata": {
        "id": "view-in-github",
        "colab_type": "text"
      },
      "source": [
        "<a href=\"https://colab.research.google.com/github/Talha-Naeem/DeepLearning-Works/blob/master/Ch_6_from_6_28_to_6_49.ipynb\" target=\"_parent\"><img src=\"https://colab.research.google.com/assets/colab-badge.svg\" alt=\"Open In Colab\"/></a>"
      ]
    },
    {
      "cell_type": "code",
      "metadata": {
        "id": "J4gFYTzIy6vK",
        "colab_type": "code",
        "colab": {}
      },
      "source": [
        "#6.28 Inspecting the data of the Jena weather dataset"
      ],
      "execution_count": null,
      "outputs": []
    },
    {
      "cell_type": "code",
      "metadata": {
        "id": "eAOx8p4kzEjI",
        "colab_type": "code",
        "colab": {}
      },
      "source": [
        "import os\n",
        "import zipfile\n",
        "!unzip -q  \"/content/jena_climate_2009_2016.csv.zip\""
      ],
      "execution_count": 17,
      "outputs": []
    },
    {
      "cell_type": "code",
      "metadata": {
        "id": "en0gWEChzr4T",
        "colab_type": "code",
        "colab": {
          "base_uri": "https://localhost:8080/",
          "height": 70
        },
        "outputId": "e0148dfd-7a2b-46d9-bf85-e0795f831eed"
      },
      "source": [
        "import os\n",
        "data_dir = 'jena_climate'\n",
        "fname = os.path.join(data_dir, '/content/jena_climate_2009_2016.csv')\n",
        "f = open(fname)\n",
        "data = f.read()\n",
        "f.close()\n",
        "lines = data.split('\\n')\n",
        "header = lines[0].split(',')\n",
        "lines = lines[1:]\n",
        "print(header)\n",
        "print(len(lines))"
      ],
      "execution_count": null,
      "outputs": [
        {
          "output_type": "stream",
          "text": [
            "['\"Date Time\"', '\"p (mbar)\"', '\"T (degC)\"', '\"Tpot (K)\"', '\"Tdew (degC)\"', '\"rh (%)\"', '\"VPmax (mbar)\"', '\"VPact (mbar)\"', '\"VPdef (mbar)\"', '\"sh (g/kg)\"', '\"H2OC (mmol/mol)\"', '\"rho (g/m**3)\"', '\"wv (m/s)\"', '\"max. wv (m/s)\"', '\"wd (deg)\"']\n",
            "420551\n"
          ],
          "name": "stdout"
        }
      ]
    },
    {
      "cell_type": "code",
      "metadata": {
        "id": "EZtiKyZhCo4w",
        "colab_type": "code",
        "colab": {}
      },
      "source": [
        "#6.29 Parsing the data"
      ],
      "execution_count": null,
      "outputs": []
    },
    {
      "cell_type": "code",
      "metadata": {
        "id": "nQCckM1mC_j-",
        "colab_type": "code",
        "colab": {}
      },
      "source": [
        "import numpy as np\n",
        "float_data = np.zeros((len(lines), len(header) - 1))\n",
        "for i, line in enumerate(lines):\n",
        "  values = [float(x) for x in line.split(',')[1:]]\n",
        "  float_data[i, :] = values"
      ],
      "execution_count": null,
      "outputs": []
    },
    {
      "cell_type": "code",
      "metadata": {
        "id": "He2n7_aZDJuD",
        "colab_type": "code",
        "colab": {}
      },
      "source": [
        "#6.30 Plotting the temperature timeseries"
      ],
      "execution_count": null,
      "outputs": []
    },
    {
      "cell_type": "code",
      "metadata": {
        "id": "ctQn37jbDL8R",
        "colab_type": "code",
        "colab": {
          "base_uri": "https://localhost:8080/",
          "height": 285
        },
        "outputId": "7f595892-d67e-473e-ec58-7ab2a95498ad"
      },
      "source": [
        "from matplotlib import pyplot as plt\n",
        "temp = float_data[:, 1] \n",
        "plt.plot(range(len(temp)), temp)"
      ],
      "execution_count": null,
      "outputs": [
        {
          "output_type": "execute_result",
          "data": {
            "text/plain": [
              "[<matplotlib.lines.Line2D at 0x7fda182164a8>]"
            ]
          },
          "metadata": {
            "tags": []
          },
          "execution_count": 4
        },
        {
          "output_type": "display_data",
          "data": {
            "image/png": "[encoded data removed]",
            "text/plain": [
              "<Figure size 432x288 with 1 Axes>"
            ]
          },
          "metadata": {
            "tags": [],
            "needs_background": "light"
          }
        }
      ]
    },
    {
      "cell_type": "code",
      "metadata": {
        "id": "22QLtXbqDchm",
        "colab_type": "code",
        "colab": {}
      },
      "source": [
        "#6.31 Plotting the first 10 days of the temperature timeseries"
      ],
      "execution_count": null,
      "outputs": []
    },
    {
      "cell_type": "code",
      "metadata": {
        "id": "XCTvHRo2Dl2F",
        "colab_type": "code",
        "colab": {
          "base_uri": "https://localhost:8080/",
          "height": 282
        },
        "outputId": "578161b3-146c-43c3-8994-5bf849bbb3f7"
      },
      "source": [
        "plt.plot(range(1440), temp[:1440])"
      ],
      "execution_count": null,
      "outputs": [
        {
          "output_type": "execute_result",
          "data": {
            "text/plain": [
              "[<matplotlib.lines.Line2D at 0x7fda181aeb00>]"
            ]
          },
          "metadata": {
            "tags": []
          },
          "execution_count": 5
        },
        {
          "output_type": "display_data",
          "data": {
            "image/png": "[encoded data removed]",
            "text/plain": [
              "<Figure size 432x288 with 1 Axes>"
            ]
          },
          "metadata": {
            "tags": [],
            "needs_background": "light"
          }
        }
      ]
    },
    {
      "cell_type": "code",
      "metadata": {
        "id": "3UpEhQ5qDrof",
        "colab_type": "code",
        "colab": {}
      },
      "source": [
        "# 6.32 Normalizing the data"
      ],
      "execution_count": null,
      "outputs": []
    },
    {
      "cell_type": "code",
      "metadata": {
        "id": "XrwTqDknDx-i",
        "colab_type": "code",
        "colab": {}
      },
      "source": [
        "mean = float_data[:200000].mean(axis=0)\n",
        "float_data -= mean\n",
        "std = float_data[:200000].std(axis=0)\n",
        "float_data /= std"
      ],
      "execution_count": null,
      "outputs": []
    },
    {
      "cell_type": "code",
      "metadata": {
        "id": "AooCy7EHD9XS",
        "colab_type": "code",
        "colab": {}
      },
      "source": [
        "#6.33 Generator yielding timeseries samples and their targets"
      ],
      "execution_count": null,
      "outputs": []
    },
    {
      "cell_type": "code",
      "metadata": {
        "id": "bn6S5TDMEAAo",
        "colab_type": "code",
        "colab": {}
      },
      "source": [
        "def generator(data, lookback, delay, min_index, max_index,shuffle=False, batch_size=128, step=6):\n",
        "    if max_index is None:\n",
        "        max_index = len(data) - delay - 1\n",
        "    i = min_index + lookback\n",
        "    while 1:\n",
        "        if shuffle:\n",
        "            rows = np.random.randint(\n",
        "                min_index + lookback, max_index, size=batch_size)\n",
        "        else:\n",
        "            if  i + batch_size >= max_index:\n",
        "                  i = min_index + lookback\n",
        "            rows = np.arange(i, min(i + batch_size, max_index))\n",
        "            i += len(rows)\n",
        "        samples = np.zeros((len(rows),lookback // step,data.shape[-1]))\n",
        "        targets = np.zeros((len(rows),))\n",
        "        for j, row in enumerate(rows):\n",
        "            indices = range(rows[j] - lookback, rows[j], step)\n",
        "            samples[j] = data[indices]\n",
        "            targets[j] = data[rows[j] + delay][1]\n",
        "        yield samples, targets"
      ],
      "execution_count": null,
      "outputs": []
    },
    {
      "cell_type": "code",
      "metadata": {
        "id": "IWi5ITJGFjiB",
        "colab_type": "code",
        "colab": {}
      },
      "source": [
        "#6.34 Preparing the training, validation, and test generators"
      ],
      "execution_count": null,
      "outputs": []
    },
    {
      "cell_type": "code",
      "metadata": {
        "id": "Mwq1HRi2FmFx",
        "colab_type": "code",
        "colab": {}
      },
      "source": [
        "lookback = 1440\n",
        "step = 6\n",
        "delay = 144\n",
        "batch_size = 128\n",
        "train_gen = generator(float_data,lookback=lookback,delay=delay,min_index=0,max_index=200000,shuffle=True,step=step,batch_size=batch_size)\n",
        "val_gen = generator(float_data,lookback=lookback,delay=delay,min_index=200001,max_index=300000,step=step,batch_size=batch_size)\n",
        "test_gen = generator(float_data,lookback=lookback,delay=delay,min_index=300001,max_index=None,step=step,batch_size=batch_size)\n",
        "val_steps = (300000 - 200001 - lookback) // batch_size\n",
        "test_steps = (len(float_data) - 300001 - lookback) // batch_size\n"
      ],
      "execution_count": null,
      "outputs": []
    },
    {
      "cell_type": "code",
      "metadata": {
        "id": "bCRKFSvTZ2VX",
        "colab_type": "code",
        "colab": {}
      },
      "source": [
        "#6.35 Computing the common-sense baseline MAE"
      ],
      "execution_count": null,
      "outputs": []
    },
    {
      "cell_type": "code",
      "metadata": {
        "id": "pXrmrz02Z7Z3",
        "colab_type": "code",
        "colab": {
          "base_uri": "https://localhost:8080/",
          "height": 34
        },
        "outputId": "2c5b6c66-9c85-4022-878f-b2ccbe658d92"
      },
      "source": [
        "def evaluate_naive_method():\n",
        "    batch_maes = []\n",
        "    for step in range(val_steps):\n",
        "        samples, targets = next(val_gen)\n",
        "        preds = samples[:,-1,1]\n",
        "        mae = np.mean(np.abs(preds - targets))\n",
        "        batch_maes.append(mae)\n",
        "    print(np.mean(batch_maes))\n",
        "evaluate_naive_method()"
      ],
      "execution_count": null,
      "outputs": [
        {
          "output_type": "stream",
          "text": [
            "0.2897359729905486\n"
          ],
          "name": "stdout"
        }
      ]
    },
    {
      "cell_type": "code",
      "metadata": {
        "id": "IH90JVsHb15h",
        "colab_type": "code",
        "colab": {}
      },
      "source": [
        "#6.36 Converting the MAE back to a Celsius error"
      ],
      "execution_count": null,
      "outputs": []
    },
    {
      "cell_type": "code",
      "metadata": {
        "id": "xTmEXAenb6RE",
        "colab_type": "code",
        "colab": {
          "base_uri": "https://localhost:8080/",
          "height": 34
        },
        "outputId": "82f565f9-937f-43c2-ba8b-3353e8d6dbd1"
      },
      "source": [
        "celsius_mae = 0.29 * std[1]\n",
        "celsius_mae"
      ],
      "execution_count": null,
      "outputs": [
        {
          "output_type": "execute_result",
          "data": {
            "text/plain": [
              "2.5672247338393395"
            ]
          },
          "metadata": {
            "tags": []
          },
          "execution_count": 10
        }
      ]
    },
    {
      "cell_type": "code",
      "metadata": {
        "id": "-EvHLVFJ8Uim",
        "colab_type": "code",
        "colab": {}
      },
      "source": [
        "#6.37 Training and evaluating a densely connected model"
      ],
      "execution_count": null,
      "outputs": []
    },
    {
      "cell_type": "code",
      "metadata": {
        "id": "werrhG5m8Y4m",
        "colab_type": "code",
        "colab": {
          "base_uri": "https://localhost:8080/",
          "height": 759
        },
        "outputId": "d0c618fb-7f8f-4b50-a0a6-ec15cd018c67"
      },
      "source": [
        "from keras.models import Sequential\n",
        "from keras import layers\n",
        "from keras.optimizers import RMSprop\n",
        "model = Sequential()\n",
        "model.add(layers.Flatten(input_shape=(lookback // step, float_data.shape[-1])))\n",
        "model.add(layers.Dense(32, activation='relu'))\n",
        "model.add(layers.Dense(1))\n",
        "model.compile(optimizer=RMSprop(), loss='mae')\n",
        "history = model.fit_generator(train_gen,steps_per_epoch=500,epochs=20,validation_data=val_gen,validation_steps=val_steps)"
      ],
      "execution_count": null,
      "outputs": [
        {
          "output_type": "stream",
          "text": [
            "WARNING:tensorflow:From <ipython-input-11-cc30abb322e5>:9: Model.fit_generator (from tensorflow.python.keras.engine.training) is deprecated and will be removed in a future version.\n",
            "Instructions for updating:\n",
            "Please use Model.fit, which supports generators.\n",
            "Epoch 1/20\n",
            "500/500 [==============================] - 14s 28ms/step - loss: 1.7682 - val_loss: 1.0627\n",
            "Epoch 2/20\n",
            "500/500 [==============================] - 14s 28ms/step - loss: 0.6211 - val_loss: 0.4398\n",
            "Epoch 3/20\n",
            "500/500 [==============================] - 14s 28ms/step - loss: 0.3531 - val_loss: 0.3558\n",
            "Epoch 4/20\n",
            "500/500 [==============================] - 14s 28ms/step - loss: 0.2874 - val_loss: 0.3124\n",
            "Epoch 5/20\n",
            "500/500 [==============================] - 14s 28ms/step - loss: 0.2641 - val_loss: 0.3220\n",
            "Epoch 6/20\n",
            "500/500 [==============================] - 14s 28ms/step - loss: 0.2518 - val_loss: 0.3074\n",
            "Epoch 7/20\n",
            "500/500 [==============================] - 13s 27ms/step - loss: 0.2428 - val_loss: 0.3214\n",
            "Epoch 8/20\n",
            "500/500 [==============================] - 13s 26ms/step - loss: 0.2346 - val_loss: 0.3102\n",
            "Epoch 9/20\n",
            "500/500 [==============================] - 13s 27ms/step - loss: 0.2292 - val_loss: 0.3135\n",
            "Epoch 10/20\n",
            "500/500 [==============================] - 13s 27ms/step - loss: 0.2263 - val_loss: 0.3294\n",
            "Epoch 11/20\n",
            "500/500 [==============================] - 13s 26ms/step - loss: 0.2197 - val_loss: 0.3207\n",
            "Epoch 12/20\n",
            "500/500 [==============================] - 13s 26ms/step - loss: 0.2179 - val_loss: 0.3465\n",
            "Epoch 13/20\n",
            "500/500 [==============================] - 13s 26ms/step - loss: 0.2158 - val_loss: 0.3265\n",
            "Epoch 14/20\n",
            "500/500 [==============================] - 13s 26ms/step - loss: 0.2129 - val_loss: 0.3280\n",
            "Epoch 15/20\n",
            "500/500 [==============================] - 13s 26ms/step - loss: 0.2100 - val_loss: 0.3268\n",
            "Epoch 16/20\n",
            "500/500 [==============================] - 13s 26ms/step - loss: 0.2088 - val_loss: 0.3244\n",
            "Epoch 17/20\n",
            "500/500 [==============================] - 13s 27ms/step - loss: 0.2073 - val_loss: 0.3672\n",
            "Epoch 18/20\n",
            "500/500 [==============================] - 13s 26ms/step - loss: 0.2030 - val_loss: 0.3272\n",
            "Epoch 19/20\n",
            "500/500 [==============================] - 13s 26ms/step - loss: 0.2025 - val_loss: 0.3438\n",
            "Epoch 20/20\n",
            "500/500 [==============================] - 13s 27ms/step - loss: 0.2000 - val_loss: 0.3280\n"
          ],
          "name": "stdout"
        }
      ]
    },
    {
      "cell_type": "code",
      "metadata": {
        "id": "IalXdjqg80iN",
        "colab_type": "code",
        "colab": {}
      },
      "source": [
        "#6.38 Plotting results"
      ],
      "execution_count": null,
      "outputs": []
    },
    {
      "cell_type": "code",
      "metadata": {
        "id": "PNCR_-zz87d3",
        "colab_type": "code",
        "colab": {
          "base_uri": "https://localhost:8080/",
          "height": 281
        },
        "outputId": "a8f0b277-aeae-4bb0-e66a-9e018dd02a00"
      },
      "source": [
        "import matplotlib.pyplot as plt\n",
        "loss = history.history['loss']\n",
        "val_loss = history.history['val_loss']\n",
        "epochs = range(1, len(loss) + 1)\n",
        "plt.figure()\n",
        "plt.plot(epochs, loss, 'bo', label='Training loss')\n",
        "plt.plot(epochs, val_loss, 'b', label='Validation loss')\n",
        "plt.title('Training and validation loss')\n",
        "plt.legend()\n",
        "plt.show()"
      ],
      "execution_count": null,
      "outputs": [
        {
          "output_type": "display_data",
          "data": {
            "image/png": "[encoded data removed]",
            "text/plain": [
              "<Figure size 432x288 with 1 Axes>"
            ]
          },
          "metadata": {
            "tags": [],
            "needs_background": "light"
          }
        }
      ]
    },
    {
      "cell_type": "code",
      "metadata": {
        "id": "BHr0i5DZ9Hjf",
        "colab_type": "code",
        "colab": {}
      },
      "source": [
        "#6.39 Training and evaluating a GRU-based model"
      ],
      "execution_count": null,
      "outputs": []
    },
    {
      "cell_type": "code",
      "metadata": {
        "id": "tt5XXqir9Xcj",
        "colab_type": "code",
        "colab": {
          "base_uri": "https://localhost:8080/",
          "height": 689
        },
        "outputId": "3ebc0e27-b844-4493-f884-cb964b298f88"
      },
      "source": [
        "from keras.models import Sequential\n",
        "from keras import layers\n",
        "from keras.optimizers import RMSprop\n",
        "model = Sequential()\n",
        "model.add(layers.GRU(32, input_shape=(None, float_data.shape[-1])))\n",
        "model.add(layers.Dense(1))\n",
        "model.compile(optimizer=RMSprop(), loss='mae')\n",
        "history = model.fit_generator(train_gen,steps_per_epoch=500,epochs=20,validation_data=val_gen,validation_steps=val_steps)"
      ],
      "execution_count": null,
      "outputs": [
        {
          "output_type": "stream",
          "text": [
            "Epoch 1/20\n",
            "500/500 [==============================] - 73s 147ms/step - loss: 0.2975 - val_loss: 0.2680\n",
            "Epoch 2/20\n",
            "500/500 [==============================] - 71s 142ms/step - loss: 0.2840 - val_loss: 0.2658\n",
            "Epoch 3/20\n",
            "500/500 [==============================] - 70s 141ms/step - loss: 0.2781 - val_loss: 0.2631\n",
            "Epoch 4/20\n",
            "500/500 [==============================] - 71s 142ms/step - loss: 0.2723 - val_loss: 0.2630\n",
            "Epoch 5/20\n",
            "500/500 [==============================] - 70s 141ms/step - loss: 0.2674 - val_loss: 0.2658\n",
            "Epoch 6/20\n",
            "500/500 [==============================] - 70s 141ms/step - loss: 0.2626 - val_loss: 0.2639\n",
            "Epoch 7/20\n",
            "500/500 [==============================] - 70s 140ms/step - loss: 0.2573 - val_loss: 0.2656\n",
            "Epoch 8/20\n",
            "500/500 [==============================] - 70s 141ms/step - loss: 0.2531 - val_loss: 0.2626\n",
            "Epoch 9/20\n",
            "500/500 [==============================] - 71s 141ms/step - loss: 0.2475 - val_loss: 0.2622\n",
            "Epoch 10/20\n",
            "500/500 [==============================] - 75s 150ms/step - loss: 0.2443 - val_loss: 0.2638\n",
            "Epoch 11/20\n",
            "500/500 [==============================] - 70s 141ms/step - loss: 0.2417 - val_loss: 0.2697\n",
            "Epoch 12/20\n",
            "500/500 [==============================] - 70s 140ms/step - loss: 0.2375 - val_loss: 0.2710\n",
            "Epoch 13/20\n",
            "500/500 [==============================] - 71s 143ms/step - loss: 0.2335 - val_loss: 0.2708\n",
            "Epoch 14/20\n",
            "500/500 [==============================] - 71s 142ms/step - loss: 0.2300 - val_loss: 0.2774\n",
            "Epoch 15/20\n",
            "500/500 [==============================] - 72s 143ms/step - loss: 0.2265 - val_loss: 0.2820\n",
            "Epoch 16/20\n",
            "500/500 [==============================] - 72s 144ms/step - loss: 0.2227 - val_loss: 0.2809\n",
            "Epoch 17/20\n",
            "500/500 [==============================] - 71s 143ms/step - loss: 0.2182 - val_loss: 0.2845\n",
            "Epoch 18/20\n",
            "500/500 [==============================] - 71s 142ms/step - loss: 0.2164 - val_loss: 0.2836\n",
            "Epoch 19/20\n",
            "500/500 [==============================] - 70s 141ms/step - loss: 0.2143 - val_loss: 0.2874\n",
            "Epoch 20/20\n",
            "500/500 [==============================] - 71s 141ms/step - loss: 0.2105 - val_loss: 0.2950\n"
          ],
          "name": "stdout"
        }
      ]
    },
    {
      "cell_type": "code",
      "metadata": {
        "id": "ZtIIhiE29fLI",
        "colab_type": "code",
        "colab": {}
      },
      "source": [
        "#6.40 Training and evaluating a dropout-regularized GRU-based model"
      ],
      "execution_count": null,
      "outputs": []
    },
    {
      "cell_type": "code",
      "metadata": {
        "id": "XxFToIAU9iOo",
        "colab_type": "code",
        "colab": {
          "base_uri": "https://localhost:8080/",
          "height": 1000
        },
        "outputId": "71dbc305-99a7-4298-c88b-c6335ca631fd"
      },
      "source": [
        "from keras.models import Sequential\n",
        "from keras import layers\n",
        "from keras.optimizers import RMSprop\n",
        "model = Sequential()\n",
        "model.add(layers.GRU(32,dropout=0.2,recurrent_dropout=0.2,input_shape=(None, float_data.shape[-1])))\n",
        "model.add(layers.Dense(1))\n",
        "model.compile(optimizer=RMSprop(), loss='mae')\n",
        "history = model.fit_generator(train_gen,steps_per_epoch=500,epochs=40,validation_data=val_gen,validation_steps=val_steps)"
      ],
      "execution_count": null,
      "outputs": [
        {
          "output_type": "stream",
          "text": [
            "Epoch 1/40\n",
            "500/500 [==============================] - 124s 248ms/step - loss: 0.3210 - val_loss: 0.2813\n",
            "Epoch 2/40\n",
            "500/500 [==============================] - 125s 250ms/step - loss: 0.3068 - val_loss: 0.2797\n",
            "Epoch 3/40\n",
            "500/500 [==============================] - 125s 250ms/step - loss: 0.2999 - val_loss: 0.2772\n",
            "Epoch 4/40\n",
            "500/500 [==============================] - 129s 258ms/step - loss: 0.2916 - val_loss: 0.2736\n",
            "Epoch 5/40\n",
            "500/500 [==============================] - 126s 252ms/step - loss: 0.2895 - val_loss: 0.2803\n",
            "Epoch 6/40\n",
            "500/500 [==============================] - 126s 252ms/step - loss: 0.2859 - val_loss: 0.2798\n",
            "Epoch 7/40\n",
            "500/500 [==============================] - 126s 253ms/step - loss: 0.2835 - val_loss: 0.2761\n",
            "Epoch 8/40\n",
            "500/500 [==============================] - 125s 251ms/step - loss: 0.2786 - val_loss: 0.2770\n",
            "Epoch 9/40\n",
            "500/500 [==============================] - 129s 258ms/step - loss: 0.2757 - val_loss: 0.2779\n",
            "Epoch 10/40\n",
            "500/500 [==============================] - 129s 259ms/step - loss: 0.2729 - val_loss: 0.2767\n",
            "Epoch 11/40\n",
            "500/500 [==============================] - 128s 255ms/step - loss: 0.2713 - val_loss: 0.2791\n",
            "Epoch 12/40\n",
            "500/500 [==============================] - 128s 255ms/step - loss: 0.2683 - val_loss: 0.2789\n",
            "Epoch 13/40\n",
            "500/500 [==============================] - 129s 257ms/step - loss: 0.2665 - val_loss: 0.2787\n",
            "Epoch 14/40\n",
            "500/500 [==============================] - 128s 257ms/step - loss: 0.2648 - val_loss: 0.2843\n",
            "Epoch 15/40\n",
            "500/500 [==============================] - 127s 254ms/step - loss: 0.2629 - val_loss: 0.2810\n",
            "Epoch 16/40\n",
            "500/500 [==============================] - 128s 255ms/step - loss: 0.2587 - val_loss: 0.2850\n",
            "Epoch 17/40\n",
            "500/500 [==============================] - 130s 260ms/step - loss: 0.2561 - val_loss: 0.2824\n",
            "Epoch 18/40\n",
            "500/500 [==============================] - 127s 255ms/step - loss: 0.2540 - val_loss: 0.2852\n",
            "Epoch 19/40\n",
            "500/500 [==============================] - 127s 254ms/step - loss: 0.2527 - val_loss: 0.2902\n",
            "Epoch 20/40\n",
            "500/500 [==============================] - 128s 255ms/step - loss: 0.2513 - val_loss: 0.2911\n",
            "Epoch 21/40\n",
            "500/500 [==============================] - 128s 257ms/step - loss: 0.2462 - val_loss: 0.2859\n",
            "Epoch 22/40\n",
            "500/500 [==============================] - 127s 254ms/step - loss: 0.2459 - val_loss: 0.2930\n",
            "Epoch 23/40\n",
            "500/500 [==============================] - 126s 252ms/step - loss: 0.2432 - val_loss: 0.2924\n",
            "Epoch 24/40\n",
            "500/500 [==============================] - 126s 253ms/step - loss: 0.2423 - val_loss: 0.2958\n",
            "Epoch 25/40\n",
            "500/500 [==============================] - 126s 253ms/step - loss: 0.2420 - val_loss: 0.2941\n",
            "Epoch 26/40\n",
            "500/500 [==============================] - 126s 252ms/step - loss: 0.2383 - val_loss: 0.2950\n",
            "Epoch 27/40\n",
            "500/500 [==============================] - 126s 253ms/step - loss: 0.2373 - val_loss: 0.2937\n",
            "Epoch 28/40\n",
            "500/500 [==============================] - 128s 255ms/step - loss: 0.2363 - val_loss: 0.3038\n",
            "Epoch 29/40\n",
            "500/500 [==============================] - 126s 252ms/step - loss: 0.2347 - val_loss: 0.3021\n",
            "Epoch 30/40\n",
            "500/500 [==============================] - 126s 252ms/step - loss: 0.2334 - val_loss: 0.3055\n",
            "Epoch 31/40\n",
            "500/500 [==============================] - 127s 253ms/step - loss: 0.2326 - val_loss: 0.2984\n",
            "Epoch 32/40\n",
            "500/500 [==============================] - 126s 252ms/step - loss: 0.2302 - val_loss: 0.3068\n",
            "Epoch 33/40\n",
            "500/500 [==============================] - 129s 257ms/step - loss: 0.2293 - val_loss: 0.3049\n",
            "Epoch 34/40\n",
            "500/500 [==============================] - 127s 253ms/step - loss: 0.2285 - val_loss: 0.3047\n",
            "Epoch 35/40\n",
            "500/500 [==============================] - 126s 253ms/step - loss: 0.2283 - val_loss: 0.3083\n",
            "Epoch 36/40\n",
            "500/500 [==============================] - 126s 253ms/step - loss: 0.2271 - val_loss: 0.3026\n",
            "Epoch 37/40\n",
            "500/500 [==============================] - 131s 263ms/step - loss: 0.2257 - val_loss: 0.3039\n",
            "Epoch 38/40\n",
            "500/500 [==============================] - 126s 252ms/step - loss: 0.2246 - val_loss: 0.3043\n",
            "Epoch 39/40\n",
            "500/500 [==============================] - 129s 259ms/step - loss: 0.2244 - val_loss: 0.3095\n",
            "Epoch 40/40\n",
            "500/500 [==============================] - 128s 256ms/step - loss: 0.2240 - val_loss: 0.3044\n"
          ],
          "name": "stdout"
        }
      ]
    },
    {
      "cell_type": "code",
      "metadata": {
        "id": "4l8eSNRJ9r4y",
        "colab_type": "code",
        "colab": {}
      },
      "source": [
        "#6.41 Training and evaluating a dropout-regularized, stacked GRU model"
      ],
      "execution_count": null,
      "outputs": []
    },
    {
      "cell_type": "code",
      "metadata": {
        "id": "eI0xJjzK90zH",
        "colab_type": "code",
        "colab": {
          "base_uri": "https://localhost:8080/",
          "height": 1000
        },
        "outputId": "da19030e-dd62-412b-a244-26a5323c1c58"
      },
      "source": [
        "from keras.models import Sequential\n",
        "from keras import layers\n",
        "from keras.optimizers import RMSprop\n",
        "model = Sequential()\n",
        "model.add(layers.GRU(32,dropout=0.1,recurrent_dropout=0.5,return_sequences=True,input_shape=(None, float_data.shape[-1])))\n",
        "model.add(layers.GRU(64, activation='relu',dropout=0.1,recurrent_dropout=0.5))\n",
        "model.add(layers.Dense(1))\n",
        "model.compile(optimizer=RMSprop(), loss='mae')\n",
        "history = model.fit_generator(train_gen,steps_per_epoch=500,epochs=40,validation_data=val_gen,validation_steps=val_steps)"
      ],
      "execution_count": 16,
      "outputs": [
        {
          "output_type": "stream",
          "text": [
            "Epoch 1/40\n",
            "500/500 [==============================] - 347s 693ms/step - loss: 0.3231 - val_loss: 0.2805\n",
            "Epoch 2/40\n",
            "500/500 [==============================] - 348s 696ms/step - loss: 0.3003 - val_loss: 0.2755\n",
            "Epoch 3/40\n",
            "500/500 [==============================] - 344s 689ms/step - loss: 0.2931 - val_loss: 0.2713\n",
            "Epoch 4/40\n",
            "500/500 [==============================] - 348s 695ms/step - loss: 0.2866 - val_loss: 0.2763\n",
            "Epoch 5/40\n",
            "500/500 [==============================] - 347s 694ms/step - loss: 0.2810 - val_loss: 0.2732\n",
            "Epoch 6/40\n",
            "500/500 [==============================] - 343s 687ms/step - loss: 0.2735 - val_loss: 0.2792\n",
            "Epoch 7/40\n",
            "500/500 [==============================] - 343s 686ms/step - loss: 0.2681 - val_loss: 0.2725\n",
            "Epoch 8/40\n",
            "500/500 [==============================] - 344s 687ms/step - loss: 0.2625 - val_loss: 0.2802\n",
            "Epoch 9/40\n",
            "500/500 [==============================] - 343s 687ms/step - loss: 0.2589 - val_loss: 0.2811\n",
            "Epoch 10/40\n",
            "500/500 [==============================] - 344s 688ms/step - loss: 0.2527 - val_loss: 0.2872\n",
            "Epoch 11/40\n",
            "500/500 [==============================] - 343s 685ms/step - loss: 0.2502 - val_loss: 0.2893\n",
            "Epoch 12/40\n",
            "500/500 [==============================] - 342s 685ms/step - loss: 0.2459 - val_loss: 0.3014\n",
            "Epoch 13/40\n",
            "500/500 [==============================] - 343s 687ms/step - loss: 0.2419 - val_loss: 0.2939\n",
            "Epoch 14/40\n",
            "500/500 [==============================] - 344s 687ms/step - loss: 0.2393 - val_loss: 0.2949\n",
            "Epoch 15/40\n",
            "500/500 [==============================] - 344s 688ms/step - loss: 0.2343 - val_loss: 0.3023\n",
            "Epoch 16/40\n",
            "500/500 [==============================] - 344s 689ms/step - loss: 0.2307 - val_loss: 0.2983\n",
            "Epoch 17/40\n",
            "500/500 [==============================] - 348s 695ms/step - loss: 0.2280 - val_loss: 0.3022\n",
            "Epoch 18/40\n",
            "500/500 [==============================] - 344s 689ms/step - loss: 0.2259 - val_loss: 0.3075\n",
            "Epoch 19/40\n",
            "500/500 [==============================] - 350s 700ms/step - loss: 0.2218 - val_loss: 0.3041\n",
            "Epoch 20/40\n",
            "500/500 [==============================] - 354s 708ms/step - loss: 0.2184 - val_loss: 0.3042\n",
            "Epoch 21/40\n",
            "500/500 [==============================] - 354s 707ms/step - loss: 0.2174 - val_loss: 0.3087\n",
            "Epoch 22/40\n",
            "500/500 [==============================] - 353s 707ms/step - loss: 0.2160 - val_loss: 0.3149\n",
            "Epoch 23/40\n",
            "500/500 [==============================] - 356s 713ms/step - loss: 0.2129 - val_loss: 0.3064\n",
            "Epoch 24/40\n",
            "500/500 [==============================] - 357s 715ms/step - loss: 0.2107 - val_loss: 0.3115\n",
            "Epoch 25/40\n",
            "500/500 [==============================] - 358s 716ms/step - loss: 0.2094 - val_loss: 0.3076\n",
            "Epoch 26/40\n",
            "500/500 [==============================] - 354s 709ms/step - loss: 0.2059 - val_loss: 0.3166\n",
            "Epoch 27/40\n",
            "500/500 [==============================] - 360s 720ms/step - loss: 0.2037 - val_loss: 0.3194\n",
            "Epoch 28/40\n",
            "500/500 [==============================] - 360s 720ms/step - loss: 0.2025 - val_loss: 0.3182\n",
            "Epoch 29/40\n",
            "500/500 [==============================] - 358s 716ms/step - loss: 0.2015 - val_loss: 0.3176\n",
            "Epoch 30/40\n",
            "500/500 [==============================] - 357s 714ms/step - loss: 0.1997 - val_loss: 0.3193\n",
            "Epoch 31/40\n",
            "500/500 [==============================] - 357s 714ms/step - loss: 0.1986 - val_loss: 0.3182\n",
            "Epoch 32/40\n",
            "500/500 [==============================] - 364s 729ms/step - loss: 0.1966 - val_loss: 0.3196\n",
            "Epoch 33/40\n",
            "500/500 [==============================] - 362s 724ms/step - loss: 0.1962 - val_loss: 0.3216\n",
            "Epoch 34/40\n",
            "500/500 [==============================] - 366s 733ms/step - loss: 0.1933 - val_loss: 0.3224\n",
            "Epoch 35/40\n",
            "500/500 [==============================] - 362s 724ms/step - loss: 0.1920 - val_loss: 0.3259\n",
            "Epoch 36/40\n",
            "500/500 [==============================] - 363s 725ms/step - loss: 0.1916 - val_loss: 0.3235\n",
            "Epoch 37/40\n",
            "500/500 [==============================] - 361s 722ms/step - loss: 0.1903 - val_loss: 0.3267\n",
            "Epoch 38/40\n",
            "500/500 [==============================] - 362s 724ms/step - loss: 0.1898 - val_loss: 0.3277\n",
            "Epoch 39/40\n",
            "500/500 [==============================] - 361s 721ms/step - loss: 0.1880 - val_loss: 0.3280\n",
            "Epoch 40/40\n",
            "500/500 [==============================] - 362s 723ms/step - loss: 0.1862 - val_loss: 0.3261\n"
          ],
          "name": "stdout"
        }
      ]
    },
    {
      "cell_type": "code",
      "metadata": {
        "id": "XoJXCAplXO7N",
        "colab_type": "code",
        "colab": {}
      },
      "source": [
        "#6.42 Training and evaluating an LSTM using reversed sequences"
      ],
      "execution_count": null,
      "outputs": []
    },
    {
      "cell_type": "code",
      "metadata": {
        "id": "_IywK85fXQuw",
        "colab_type": "code",
        "colab": {
          "base_uri": "https://localhost:8080/",
          "height": 386
        },
        "outputId": "20d66ef7-498e-4a11-a5d4-ee7b7dab686e"
      },
      "source": [
        "from keras.datasets import imdb\n",
        "from keras.preprocessing import sequence\n",
        "from keras import layers\n",
        "from keras.models import Sequential\n",
        "max_features = 10000\n",
        "maxlen = 500\n",
        "(x_train, y_train), (x_test, y_test) = imdb.load_data(num_words=max_features)\n",
        "x_train = [x[::-1] for x in x_train]\n",
        "x_test = [x[::-1] for x in x_test]\n",
        "x_train = sequence.pad_sequences(x_train, maxlen=maxlen)\n",
        "x_test = sequence.pad_sequences(x_test, maxlen=maxlen)\n",
        "model = Sequential()\n",
        "model.add(layers.Embedding(max_features, 128))\n",
        "model.add(layers.LSTM(32))\n",
        "model.add(layers.Dense(1, activation='sigmoid'))\n",
        "model.compile(optimizer='rmsprop',\n",
        "loss='binary_crossentropy',\n",
        "metrics=['acc'])\n",
        "history = model.fit(x_train, y_train,epochs=10,batch_size=128,validation_split=0.2)"
      ],
      "execution_count": 18,
      "outputs": [
        {
          "output_type": "stream",
          "text": [
            "Downloading data from https://storage.googleapis.com/tensorflow/tf-keras-datasets/imdb.npz\n",
            "17465344/17464789 [==============================] - 0s 0us/step\n",
            "Epoch 1/10\n",
            "157/157 [==============================] - 60s 383ms/step - loss: 0.5056 - acc: 0.7596 - val_loss: 0.4677 - val_acc: 0.7742\n",
            "Epoch 2/10\n",
            "157/157 [==============================] - 61s 387ms/step - loss: 0.3117 - acc: 0.8783 - val_loss: 0.3229 - val_acc: 0.8698\n",
            "Epoch 3/10\n",
            "157/157 [==============================] - 62s 392ms/step - loss: 0.2608 - acc: 0.9032 - val_loss: 0.3315 - val_acc: 0.8750\n",
            "Epoch 4/10\n",
            "157/157 [==============================] - 61s 389ms/step - loss: 0.2238 - acc: 0.9207 - val_loss: 0.3355 - val_acc: 0.8772\n",
            "Epoch 5/10\n",
            "157/157 [==============================] - 61s 390ms/step - loss: 0.1902 - acc: 0.9322 - val_loss: 0.3544 - val_acc: 0.8536\n",
            "Epoch 6/10\n",
            "157/157 [==============================] - 61s 387ms/step - loss: 0.1709 - acc: 0.9414 - val_loss: 0.3602 - val_acc: 0.8800\n",
            "Epoch 7/10\n",
            "157/157 [==============================] - 61s 387ms/step - loss: 0.1530 - acc: 0.9467 - val_loss: 0.4459 - val_acc: 0.8496\n",
            "Epoch 8/10\n",
            "157/157 [==============================] - 64s 410ms/step - loss: 0.1361 - acc: 0.9542 - val_loss: 0.3825 - val_acc: 0.8676\n",
            "Epoch 9/10\n",
            "157/157 [==============================] - 61s 388ms/step - loss: 0.1251 - acc: 0.9591 - val_loss: 0.3707 - val_acc: 0.8604\n",
            "Epoch 10/10\n",
            "157/157 [==============================] - 61s 390ms/step - loss: 0.1236 - acc: 0.9609 - val_loss: 0.4667 - val_acc: 0.8560\n"
          ],
          "name": "stdout"
        }
      ]
    },
    {
      "cell_type": "code",
      "metadata": {
        "id": "-P-CICfsXZkk",
        "colab_type": "code",
        "colab": {}
      },
      "source": [
        "#6.43 Training and evaluating a bidirectional LSTM"
      ],
      "execution_count": null,
      "outputs": []
    },
    {
      "cell_type": "code",
      "metadata": {
        "id": "sobNyWKk-EKT",
        "colab_type": "code",
        "colab": {
          "base_uri": "https://localhost:8080/",
          "height": 353
        },
        "outputId": "364f6835-7990-473c-ab38-bc5468a6b1c7"
      },
      "source": [
        "model = Sequential()\n",
        "model.add(layers.Embedding(max_features, 32))\n",
        "model.add(layers.Bidirectional(layers.LSTM(32)))\n",
        "model.add(layers.Dense(1, activation='sigmoid'))\n",
        "model.compile(optimizer='rmsprop', loss='binary_crossentropy', metrics=['acc'])\n",
        "history = model.fit(x_train, y_train,epochs=10,batch_size=128,validation_split=0.2)"
      ],
      "execution_count": 19,
      "outputs": [
        {
          "output_type": "stream",
          "text": [
            "Epoch 1/10\n",
            "157/157 [==============================] - 88s 564ms/step - loss: 0.5706 - acc: 0.7102 - val_loss: 1.1320 - val_acc: 0.5220\n",
            "Epoch 2/10\n",
            "157/157 [==============================] - 86s 549ms/step - loss: 0.3532 - acc: 0.8617 - val_loss: 0.3170 - val_acc: 0.8782\n",
            "Epoch 3/10\n",
            "157/157 [==============================] - 86s 547ms/step - loss: 0.2807 - acc: 0.9015 - val_loss: 0.7971 - val_acc: 0.7680\n",
            "Epoch 4/10\n",
            "157/157 [==============================] - 86s 550ms/step - loss: 0.2371 - acc: 0.9164 - val_loss: 0.3064 - val_acc: 0.8838\n",
            "Epoch 5/10\n",
            "157/157 [==============================] - 89s 569ms/step - loss: 0.2019 - acc: 0.9286 - val_loss: 0.5007 - val_acc: 0.8372\n",
            "Epoch 6/10\n",
            "157/157 [==============================] - 86s 545ms/step - loss: 0.1860 - acc: 0.9351 - val_loss: 0.3453 - val_acc: 0.8850\n",
            "Epoch 7/10\n",
            "157/157 [==============================] - 86s 545ms/step - loss: 0.1680 - acc: 0.9427 - val_loss: 0.3410 - val_acc: 0.8826\n",
            "Epoch 8/10\n",
            "157/157 [==============================] - 85s 543ms/step - loss: 0.1516 - acc: 0.9486 - val_loss: 0.4448 - val_acc: 0.8748\n",
            "Epoch 9/10\n",
            "157/157 [==============================] - 85s 543ms/step - loss: 0.1418 - acc: 0.9531 - val_loss: 0.3605 - val_acc: 0.8842\n",
            "Epoch 10/10\n",
            "157/157 [==============================] - 86s 545ms/step - loss: 0.1290 - acc: 0.9554 - val_loss: 0.4202 - val_acc: 0.8528\n"
          ],
          "name": "stdout"
        }
      ]
    },
    {
      "cell_type": "code",
      "metadata": {
        "id": "xfIY7NseYJlM",
        "colab_type": "code",
        "colab": {}
      },
      "source": [
        "#6.44 Training a bidirectional GRU"
      ],
      "execution_count": null,
      "outputs": []
    },
    {
      "cell_type": "code",
      "metadata": {
        "id": "wolKDZveYRJJ",
        "colab_type": "code",
        "colab": {
          "base_uri": "https://localhost:8080/",
          "height": 1000
        },
        "outputId": "b1387997-83d8-4455-ff59-84e0e7619787"
      },
      "source": [
        "from keras.models import Sequential\n",
        "from keras import layers\n",
        "from keras.optimizers import RMSprop\n",
        "model = Sequential()\n",
        "model.add(layers.Bidirectional(\n",
        "layers.GRU(32), input_shape=(None, float_data.shape[-1])))\n",
        "model.add(layers.Dense(1))\n",
        "model.compile(optimizer=RMSprop(), loss='mae')\n",
        "history = model.fit_generator(train_gen,steps_per_epoch=500,epochs=40,validation_data=val_gen,validation_steps=val_steps)"
      ],
      "execution_count": 20,
      "outputs": [
        {
          "output_type": "stream",
          "text": [
            "Epoch 1/40\n",
            "500/500 [==============================] - 136s 272ms/step - loss: 0.2974 - val_loss: 0.2669\n",
            "Epoch 2/40\n",
            "500/500 [==============================] - 134s 269ms/step - loss: 0.2770 - val_loss: 0.2640\n",
            "Epoch 3/40\n",
            "500/500 [==============================] - 137s 274ms/step - loss: 0.2702 - val_loss: 0.2640\n",
            "Epoch 4/40\n",
            "500/500 [==============================] - 136s 272ms/step - loss: 0.2633 - val_loss: 0.2686\n",
            "Epoch 5/40\n",
            "500/500 [==============================] - 135s 270ms/step - loss: 0.2598 - val_loss: 0.2630\n",
            "Epoch 6/40\n",
            "500/500 [==============================] - 135s 269ms/step - loss: 0.2523 - val_loss: 0.2697\n",
            "Epoch 7/40\n",
            "500/500 [==============================] - 135s 270ms/step - loss: 0.2482 - val_loss: 0.2729\n",
            "Epoch 8/40\n",
            "500/500 [==============================] - 135s 270ms/step - loss: 0.2417 - val_loss: 0.2754\n",
            "Epoch 9/40\n",
            "500/500 [==============================] - 135s 269ms/step - loss: 0.2354 - val_loss: 0.2776\n",
            "Epoch 10/40\n",
            "500/500 [==============================] - 135s 270ms/step - loss: 0.2300 - val_loss: 0.2906\n",
            "Epoch 11/40\n",
            "500/500 [==============================] - 136s 271ms/step - loss: 0.2231 - val_loss: 0.2899\n",
            "Epoch 12/40\n",
            "500/500 [==============================] - 135s 269ms/step - loss: 0.2176 - val_loss: 0.2917\n",
            "Epoch 13/40\n",
            "500/500 [==============================] - 135s 270ms/step - loss: 0.2135 - val_loss: 0.3010\n",
            "Epoch 14/40\n",
            "500/500 [==============================] - 137s 274ms/step - loss: 0.2079 - val_loss: 0.3017\n",
            "Epoch 15/40\n",
            "500/500 [==============================] - 136s 271ms/step - loss: 0.2027 - val_loss: 0.3020\n",
            "Epoch 16/40\n",
            "500/500 [==============================] - 135s 270ms/step - loss: 0.1982 - val_loss: 0.3052\n",
            "Epoch 17/40\n",
            "500/500 [==============================] - 136s 272ms/step - loss: 0.1934 - val_loss: 0.3047\n",
            "Epoch 18/40\n",
            "500/500 [==============================] - 135s 271ms/step - loss: 0.1895 - val_loss: 0.3137\n",
            "Epoch 19/40\n",
            "500/500 [==============================] - 135s 271ms/step - loss: 0.1854 - val_loss: 0.3107\n",
            "Epoch 20/40\n",
            "500/500 [==============================] - 135s 270ms/step - loss: 0.1822 - val_loss: 0.3135\n",
            "Epoch 21/40\n",
            "500/500 [==============================] - 136s 271ms/step - loss: 0.1797 - val_loss: 0.3183\n",
            "Epoch 22/40\n",
            "500/500 [==============================] - 135s 270ms/step - loss: 0.1773 - val_loss: 0.3231\n",
            "Epoch 23/40\n",
            "500/500 [==============================] - 135s 271ms/step - loss: 0.1723 - val_loss: 0.3291\n",
            "Epoch 24/40\n",
            "500/500 [==============================] - 136s 272ms/step - loss: 0.1699 - val_loss: 0.3201\n",
            "Epoch 25/40\n",
            "500/500 [==============================] - 136s 272ms/step - loss: 0.1672 - val_loss: 0.3227\n",
            "Epoch 26/40\n",
            "500/500 [==============================] - 135s 270ms/step - loss: 0.1637 - val_loss: 0.3318\n",
            "Epoch 27/40\n",
            "500/500 [==============================] - 135s 271ms/step - loss: 0.1623 - val_loss: 0.3269\n",
            "Epoch 28/40\n",
            "500/500 [==============================] - 135s 271ms/step - loss: 0.1602 - val_loss: 0.3276\n",
            "Epoch 29/40\n",
            "500/500 [==============================] - 135s 270ms/step - loss: 0.1587 - val_loss: 0.3366\n",
            "Epoch 30/40\n",
            "500/500 [==============================] - 136s 271ms/step - loss: 0.1555 - val_loss: 0.3383\n",
            "Epoch 31/40\n",
            "500/500 [==============================] - 135s 270ms/step - loss: 0.1543 - val_loss: 0.3302\n",
            "Epoch 32/40\n",
            "500/500 [==============================] - 136s 272ms/step - loss: 0.1524 - val_loss: 0.3349\n",
            "Epoch 33/40\n",
            "500/500 [==============================] - 135s 270ms/step - loss: 0.1513 - val_loss: 0.3346\n",
            "Epoch 34/40\n",
            "500/500 [==============================] - 135s 269ms/step - loss: 0.1495 - val_loss: 0.3370\n",
            "Epoch 35/40\n",
            "500/500 [==============================] - 138s 275ms/step - loss: 0.1466 - val_loss: 0.3381\n",
            "Epoch 36/40\n",
            "500/500 [==============================] - 138s 276ms/step - loss: 0.1458 - val_loss: 0.3401\n",
            "Epoch 37/40\n",
            "500/500 [==============================] - ETA: 0s - loss: 0.1425Epoch 38/40\n",
            "500/500 [==============================] - 136s 272ms/step - loss: 0.1424 - val_loss: 0.3368\n",
            "Epoch 39/40\n",
            "500/500 [==============================] - 137s 274ms/step - loss: 0.1413 - val_loss: 0.3363\n",
            "Epoch 40/40\n",
            "500/500 [==============================] - 136s 273ms/step - loss: 0.1399 - val_loss: 0.3397\n"
          ],
          "name": "stdout"
        }
      ]
    },
    {
      "cell_type": "code",
      "metadata": {
        "id": "Zgexhe7ZYgRE",
        "colab_type": "code",
        "colab": {}
      },
      "source": [
        "#6.45 Preparing the IMDB data"
      ],
      "execution_count": null,
      "outputs": []
    },
    {
      "cell_type": "code",
      "metadata": {
        "id": "t_bIftjSYirE",
        "colab_type": "code",
        "colab": {
          "base_uri": "https://localhost:8080/",
          "height": 118
        },
        "outputId": "663332d0-9c95-4a3d-b462-c53bba5d6a53"
      },
      "source": [
        "from keras.datasets import imdb\n",
        "from keras.preprocessing import sequence\n",
        "max_features = 10000\n",
        "max_len = 500\n",
        "print('Loading data...')\n",
        "(x_train, y_train), (x_test, y_test) = imdb.load_data(num_words=max_features)\n",
        "print(len(x_train), 'train sequences')\n",
        "print(len(x_test), 'test sequences')\n",
        "print('Pad sequences (samples x time)')\n",
        "x_train = sequence.pad_sequences(x_train, maxlen=max_len)\n",
        "x_test = sequence.pad_sequences(x_test, maxlen=max_len)\n",
        "print('x_train shape:', x_train.shape)\n",
        "print('x_test shape:', x_test.shape)"
      ],
      "execution_count": 21,
      "outputs": [
        {
          "output_type": "stream",
          "text": [
            "Loading data...\n",
            "25000 train sequences\n",
            "25000 test sequences\n",
            "Pad sequences (samples x time)\n",
            "x_train shape: (25000, 500)\n",
            "x_test shape: (25000, 500)\n"
          ],
          "name": "stdout"
        }
      ]
    },
    {
      "cell_type": "code",
      "metadata": {
        "id": "87uQ3TneYqMY",
        "colab_type": "code",
        "colab": {}
      },
      "source": [
        "#6.46 Training and evaluating a simple 1D convnet on the IMDB data"
      ],
      "execution_count": null,
      "outputs": []
    },
    {
      "cell_type": "code",
      "metadata": {
        "id": "bkc7AShkY2Sp",
        "colab_type": "code",
        "colab": {
          "base_uri": "https://localhost:8080/",
          "height": 689
        },
        "outputId": "68cf6309-4137-4022-9c97-f90281fde232"
      },
      "source": [
        "from keras.models import Sequential\n",
        "from keras import layers\n",
        "from keras.optimizers import RMSprop\n",
        "model = Sequential()\n",
        "model.add(layers.Embedding(max_features, 128, input_length=max_len))\n",
        "model.add(layers.Conv1D(32, 7, activation='relu'))\n",
        "model.add(layers.MaxPooling1D(5))\n",
        "model.add(layers.Conv1D(32, 7, activation='relu'))\n",
        "model.add(layers.GlobalMaxPooling1D())\n",
        "model.add(layers.Dense(1))\n",
        "model.summary()\n",
        "model.compile(optimizer=RMSprop(lr=1e-4),\n",
        "loss='binary_crossentropy',metrics=['acc'])\n",
        "history = model.fit(x_train, y_train,epochs=10,batch_size=128,validation_split=0.2)"
      ],
      "execution_count": 22,
      "outputs": [
        {
          "output_type": "stream",
          "text": [
            "Model: \"sequential_7\"\n",
            "_________________________________________________________________\n",
            "Layer (type)                 Output Shape              Param #   \n",
            "=================================================================\n",
            "embedding_2 (Embedding)      (None, 500, 128)          1280000   \n",
            "_________________________________________________________________\n",
            "conv1d (Conv1D)              (None, 494, 32)           28704     \n",
            "_________________________________________________________________\n",
            "max_pooling1d (MaxPooling1D) (None, 98, 32)            0         \n",
            "_________________________________________________________________\n",
            "conv1d_1 (Conv1D)            (None, 92, 32)            7200      \n",
            "_________________________________________________________________\n",
            "global_max_pooling1d (Global (None, 32)                0         \n",
            "_________________________________________________________________\n",
            "dense_8 (Dense)              (None, 1)                 33        \n",
            "=================================================================\n",
            "Total params: 1,315,937\n",
            "Trainable params: 1,315,937\n",
            "Non-trainable params: 0\n",
            "_________________________________________________________________\n",
            "Epoch 1/10\n",
            "157/157 [==============================] - 59s 375ms/step - loss: 7.7364 - acc: 0.4985 - val_loss: 7.6168 - val_acc: 0.5062\n",
            "Epoch 2/10\n",
            "157/157 [==============================] - 59s 374ms/step - loss: 7.7364 - acc: 0.4985 - val_loss: 7.6168 - val_acc: 0.5062\n",
            "Epoch 3/10\n",
            "157/157 [==============================] - 58s 371ms/step - loss: 7.7364 - acc: 0.4985 - val_loss: 7.6168 - val_acc: 0.5062\n",
            "Epoch 4/10\n",
            "157/157 [==============================] - 58s 372ms/step - loss: 7.7364 - acc: 0.4985 - val_loss: 7.6168 - val_acc: 0.5062\n",
            "Epoch 5/10\n",
            "157/157 [==============================] - 59s 373ms/step - loss: 7.7364 - acc: 0.4985 - val_loss: 7.6168 - val_acc: 0.5062\n",
            "Epoch 6/10\n",
            "157/157 [==============================] - 59s 373ms/step - loss: 7.7364 - acc: 0.4985 - val_loss: 7.6168 - val_acc: 0.5062\n",
            "Epoch 7/10\n",
            "157/157 [==============================] - 59s 374ms/step - loss: 7.7364 - acc: 0.4985 - val_loss: 7.6168 - val_acc: 0.5062\n",
            "Epoch 8/10\n",
            "157/157 [==============================] - 59s 377ms/step - loss: 7.7364 - acc: 0.4985 - val_loss: 7.6168 - val_acc: 0.5062\n",
            "Epoch 9/10\n",
            "157/157 [==============================] - 59s 379ms/step - loss: 7.7364 - acc: 0.4985 - val_loss: 7.6168 - val_acc: 0.5062\n",
            "Epoch 10/10\n",
            "157/157 [==============================] - 60s 380ms/step - loss: 7.7364 - acc: 0.4985 - val_loss: 7.6168 - val_acc: 0.5062\n"
          ],
          "name": "stdout"
        }
      ]
    },
    {
      "cell_type": "code",
      "metadata": {
        "id": "g3As308tY-tJ",
        "colab_type": "code",
        "colab": {}
      },
      "source": [
        "#6.47 Training and evaluating a simple 1D convnet on the Jena data"
      ],
      "execution_count": null,
      "outputs": []
    },
    {
      "cell_type": "code",
      "metadata": {
        "id": "DTnSzawLZE_B",
        "colab_type": "code",
        "colab": {
          "base_uri": "https://localhost:8080/",
          "height": 689
        },
        "outputId": "f1f94289-10b5-422c-b0b1-af71efa36d99"
      },
      "source": [
        "from keras.models import Sequential\n",
        "from keras import layers\n",
        "from keras.optimizers import RMSprop\n",
        "model = Sequential()\n",
        "model.add(layers.Conv1D(32, 5, activation='relu',\n",
        "input_shape=(None, float_data.shape[-1])))\n",
        "model.add(layers.MaxPooling1D(3))\n",
        "model.add(layers.Conv1D(32, 5, activation='relu'))\n",
        "model.add(layers.MaxPooling1D(3))\n",
        "model.add(layers.Conv1D(32, 5, activation='relu'))\n",
        "model.add(layers.GlobalMaxPooling1D())\n",
        "model.add(layers.Dense(1))\n",
        "model.compile(optimizer=RMSprop(), loss='mae')\n",
        "history = model.fit_generator(train_gen,steps_per_epoch=500,epochs=20,validation_data=val_gen,validation_steps=val_steps)"
      ],
      "execution_count": 23,
      "outputs": [
        {
          "output_type": "stream",
          "text": [
            "Epoch 1/20\n",
            "500/500 [==============================] - 34s 68ms/step - loss: 0.4130 - val_loss: 0.4229\n",
            "Epoch 2/20\n",
            "500/500 [==============================] - 34s 67ms/step - loss: 0.3605 - val_loss: 0.4261\n",
            "Epoch 3/20\n",
            "500/500 [==============================] - 33s 67ms/step - loss: 0.3370 - val_loss: 0.4312\n",
            "Epoch 4/20\n",
            "500/500 [==============================] - 33s 67ms/step - loss: 0.3214 - val_loss: 0.4264\n",
            "Epoch 5/20\n",
            "500/500 [==============================] - 34s 67ms/step - loss: 0.3098 - val_loss: 0.4328\n",
            "Epoch 6/20\n",
            "500/500 [==============================] - 33s 67ms/step - loss: 0.2985 - val_loss: 0.4473\n",
            "Epoch 7/20\n",
            "500/500 [==============================] - 33s 67ms/step - loss: 0.2915 - val_loss: 0.4311\n",
            "Epoch 8/20\n",
            "500/500 [==============================] - 33s 67ms/step - loss: 0.2841 - val_loss: 0.4356\n",
            "Epoch 9/20\n",
            "500/500 [==============================] - 33s 67ms/step - loss: 0.2785 - val_loss: 0.4348\n",
            "Epoch 10/20\n",
            "500/500 [==============================] - 33s 67ms/step - loss: 0.2728 - val_loss: 0.4426\n",
            "Epoch 11/20\n",
            "500/500 [==============================] - 33s 67ms/step - loss: 0.2661 - val_loss: 0.4383\n",
            "Epoch 12/20\n",
            "500/500 [==============================] - 34s 67ms/step - loss: 0.2626 - val_loss: 0.4466\n",
            "Epoch 13/20\n",
            "500/500 [==============================] - 33s 67ms/step - loss: 0.2578 - val_loss: 0.4428\n",
            "Epoch 14/20\n",
            "500/500 [==============================] - 34s 67ms/step - loss: 0.2560 - val_loss: 0.4653\n",
            "Epoch 15/20\n",
            "500/500 [==============================] - 34s 67ms/step - loss: 0.2541 - val_loss: 0.4573\n",
            "Epoch 16/20\n",
            "500/500 [==============================] - 34s 67ms/step - loss: 0.2505 - val_loss: 0.4515\n",
            "Epoch 17/20\n",
            "500/500 [==============================] - 34s 68ms/step - loss: 0.2484 - val_loss: 0.4518\n",
            "Epoch 18/20\n",
            "500/500 [==============================] - 34s 67ms/step - loss: 0.2452 - val_loss: 0.4657\n",
            "Epoch 19/20\n",
            "500/500 [==============================] - 34s 67ms/step - loss: 0.2426 - val_loss: 0.4620\n",
            "Epoch 20/20\n",
            "500/500 [==============================] - 34s 67ms/step - loss: 0.2417 - val_loss: 0.4691\n"
          ],
          "name": "stdout"
        }
      ]
    },
    {
      "cell_type": "code",
      "metadata": {
        "id": "geNGHypRZUEj",
        "colab_type": "code",
        "colab": {}
      },
      "source": [
        "#6.48 Preparing higher-resolution data generators for the Jena dataset"
      ],
      "execution_count": null,
      "outputs": []
    },
    {
      "cell_type": "code",
      "metadata": {
        "id": "dW49hlFOZVn6",
        "colab_type": "code",
        "colab": {}
      },
      "source": [
        "step = 3\n",
        "lookback = 720\n",
        "delay = 144\n",
        "train_gen = generator(float_data,lookback=lookback,delay=delay,min_index=0,max_index=200000,shuffle=True,step=step)\n",
        "val_gen = generator(float_data,lookback=lookback,delay=delay,min_index=200001,max_index=300000,step=step)\n",
        "test_gen = generator(float_data,lookback=lookback,delay=delay,min_index=300001,max_index=None,step=step)\n",
        "val_steps = (300000 - 200001 - lookback) // 128\n",
        "test_steps = (len(float_data) - 300001 - lookback) // 128"
      ],
      "execution_count": 24,
      "outputs": []
    },
    {
      "cell_type": "code",
      "metadata": {
        "id": "z_Gzr0TbZtpZ",
        "colab_type": "code",
        "colab": {}
      },
      "source": [
        "#6.49 Model combining a 1D convolutional base and a GRU layer"
      ],
      "execution_count": null,
      "outputs": []
    },
    {
      "cell_type": "code",
      "metadata": {
        "id": "-VdRjPyKZwOT",
        "colab_type": "code",
        "colab": {
          "base_uri": "https://localhost:8080/",
          "height": 991
        },
        "outputId": "7d4ba7e1-6a14-4497-fc3d-de29ec9d1d1c"
      },
      "source": [
        "from keras.models import Sequential\n",
        "from keras import layers\n",
        "from keras.optimizers import RMSprop\n",
        "model = Sequential()\n",
        "model.add(layers.Conv1D(32, 5, activation='relu',\n",
        "input_shape=(None, float_data.shape[-1])))\n",
        "model.add(layers.MaxPooling1D(3))\n",
        "model.add(layers.Conv1D(32, 5, activation='relu'))\n",
        "model.add(layers.GRU(32, dropout=0.1, recurrent_dropout=0.5))\n",
        "model.add(layers.Dense(1))\n",
        "model.summary()\n",
        "model.compile(optimizer=RMSprop(), loss='mae')\n",
        "history = model.fit_generator(train_gen,steps_per_epoch=500,epochs=20,validation_data=val_gen,validation_steps=val_steps)"
      ],
      "execution_count": 25,
      "outputs": [
        {
          "output_type": "stream",
          "text": [
            "Model: \"sequential_9\"\n",
            "_________________________________________________________________\n",
            "Layer (type)                 Output Shape              Param #   \n",
            "=================================================================\n",
            "conv1d_5 (Conv1D)            (None, None, 32)          2272      \n",
            "_________________________________________________________________\n",
            "max_pooling1d_3 (MaxPooling1 (None, None, 32)          0         \n",
            "_________________________________________________________________\n",
            "conv1d_6 (Conv1D)            (None, None, 32)          5152      \n",
            "_________________________________________________________________\n",
            "gru_5 (GRU)                  (None, 32)                6336      \n",
            "_________________________________________________________________\n",
            "dense_10 (Dense)             (None, 1)                 33        \n",
            "=================================================================\n",
            "Total params: 13,793\n",
            "Trainable params: 13,793\n",
            "Non-trainable params: 0\n",
            "_________________________________________________________________\n",
            "Epoch 1/20\n",
            "500/500 [==============================] - 78s 155ms/step - loss: 0.3319 - val_loss: 0.2826\n",
            "Epoch 2/20\n",
            "500/500 [==============================] - 77s 154ms/step - loss: 0.2968 - val_loss: 0.2944\n",
            "Epoch 3/20\n",
            "500/500 [==============================] - 77s 153ms/step - loss: 0.2835 - val_loss: 0.2830\n",
            "Epoch 4/20\n",
            "500/500 [==============================] - 76s 153ms/step - loss: 0.2769 - val_loss: 0.2745\n",
            "Epoch 5/20\n",
            "500/500 [==============================] - 76s 152ms/step - loss: 0.2689 - val_loss: 0.2787\n",
            "Epoch 6/20\n",
            "500/500 [==============================] - 76s 153ms/step - loss: 0.2610 - val_loss: 0.2778\n",
            "Epoch 7/20\n",
            "500/500 [==============================] - 77s 153ms/step - loss: 0.2558 - val_loss: 0.2938\n",
            "Epoch 8/20\n",
            "500/500 [==============================] - 76s 153ms/step - loss: 0.2471 - val_loss: 0.2899\n",
            "Epoch 9/20\n",
            "500/500 [==============================] - 76s 152ms/step - loss: 0.2444 - val_loss: 0.2944\n",
            "Epoch 10/20\n",
            "500/500 [==============================] - 76s 152ms/step - loss: 0.2368 - val_loss: 0.2972\n",
            "Epoch 11/20\n",
            "500/500 [==============================] - 76s 152ms/step - loss: 0.2321 - val_loss: 0.3077\n",
            "Epoch 12/20\n",
            "500/500 [==============================] - 77s 153ms/step - loss: 0.2295 - val_loss: 0.2948\n",
            "Epoch 13/20\n",
            "500/500 [==============================] - 77s 154ms/step - loss: 0.2233 - val_loss: 0.3047\n",
            "Epoch 14/20\n",
            "500/500 [==============================] - 77s 154ms/step - loss: 0.2200 - val_loss: 0.3115\n",
            "Epoch 15/20\n",
            "500/500 [==============================] - 76s 153ms/step - loss: 0.2158 - val_loss: 0.3116\n",
            "Epoch 16/20\n",
            "500/500 [==============================] - 76s 152ms/step - loss: 0.2127 - val_loss: 0.3209\n",
            "Epoch 17/20\n",
            "500/500 [==============================] - 76s 152ms/step - loss: 0.2094 - val_loss: 0.3124\n",
            "Epoch 18/20\n",
            "500/500 [==============================] - 77s 154ms/step - loss: 0.2065 - val_loss: 0.3133\n",
            "Epoch 19/20\n",
            "500/500 [==============================] - 78s 157ms/step - loss: 0.2042 - val_loss: 0.3122\n",
            "Epoch 20/20\n",
            "500/500 [==============================] - 79s 157ms/step - loss: 0.1988 - val_loss: 0.3195\n"
          ],
          "name": "stdout"
        }
      ]
    }
  ]
}