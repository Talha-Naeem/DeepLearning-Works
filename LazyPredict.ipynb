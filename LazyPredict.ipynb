{
 "cells": [
  {
   "cell_type": "code",
   "execution_count": 1,
   "id": "71ede4f8-1e9d-4f87-8044-9e2575e585f1",
   "metadata": {
    "tags": []
   },
   "outputs": [],
   "source": [
    "import pandas as pd\n",
    "import numpy as np\n",
    "from sklearn.impute import SimpleImputer\n",
    "from sklearn.utils import resample\n",
    "from sklearn.preprocessing import OneHotEncoder, StandardScaler,PolynomialFeatures\n",
    "from sklearn.model_selection import train_test_split,GridSearchCV\n",
    "from sklearn import tree\n",
    "from sklearn.tree import DecisionTreeClassifier, plot_tree\n",
    "from sklearn.ensemble import RandomForestClassifier,GradientBoostingClassifier\n",
    "from sklearn.feature_selection import SelectFromModel\n",
    "from sklearn.linear_model import LogisticRegression\n",
    "from sklearn.metrics import accuracy_score, confusion_matrix, classification_report, precision_score, recall_score, roc_auc_score\n",
    "import matplotlib.pyplot as plt"
   ]
  },
  {
   "cell_type": "code",
   "execution_count": 2,
   "id": "5ff4c0bc-798b-465f-bd53-b0fe37c10b93",
   "metadata": {
    "tags": []
   },
   "outputs": [],
   "source": [
    "# Load the dataset\n",
    "df = pd.read_csv('data.csv')"
   ]
  },
  {
   "cell_type": "code",
   "execution_count": 4,
   "id": "b4905c69-5e4d-4950-a53c-bd3721d068c2",
   "metadata": {
    "tags": []
   },
   "outputs": [],
   "source": [
    "# Droping unnessesary columns, as this has no impact on credit risk\n",
    "df.drop(['BORROWER_CODE', 'DATE_ADDED'], axis=1, inplace=True)"
   ]
  },
  {
   "cell_type": "code",
   "execution_count": 5,
   "id": "81abedaa-dcdf-48d2-96a3-25e597c6b1e6",
   "metadata": {
    "tags": []
   },
   "outputs": [],
   "source": [
    "# The column \"BUSINESS_NATURE\" has missing values, so imputed the missing values using the most frequent value\n",
    "imp = SimpleImputer(strategy='most_frequent')\n",
    "df['BUSINESS_NATURE'] = imp.fit_transform(df[['BUSINESS_NATURE']])"
   ]
  },
  {
   "cell_type": "code",
   "execution_count": 6,
   "id": "cc8bb9bd-fd35-4ebe-bf05-20ba4ea5f78b",
   "metadata": {
    "tags": []
   },
   "outputs": [],
   "source": [
    "# Import necessary libraries\n",
    "import pandas as pd\n",
    "import numpy as np\n",
    "import seaborn as sns\n",
    "import itertools\n",
    "import matplotlib.pyplot as plt\n",
    "from sklearn.model_selection import train_test_split\n",
    "from sklearn.preprocessing import LabelEncoder\n",
    "from sklearn.metrics import accuracy_score, confusion_matrix\n",
    "from sklearn import preprocessing"
   ]
  },
  {
   "cell_type": "code",
   "execution_count": 7,
   "id": "4e966b6e-ccee-44f1-a6fc-f79edc38df2e",
   "metadata": {
    "tags": []
   },
   "outputs": [],
   "source": [
    "# Split the data into features and target variable\n",
    "X = df.drop('Default_Status', axis=1)\n",
    "y = df['Default_Status']"
   ]
  },
  {
   "cell_type": "code",
   "execution_count": 8,
   "id": "9c4ca6a1-b8e7-4bda-93cd-10fbd99e35a9",
   "metadata": {
    "tags": []
   },
   "outputs": [],
   "source": [
    "# Handle categorical variables by encoding them\n",
    "categorical_cols = [\"MARITAL\", \"Educated\", \"BUSINESS_NATURE\", \"RESIDENCE_TYPE\", \"RURAL_URBAN\", \"AREA\", \"REGION\"]\n",
    "for col in categorical_cols:\n",
    "    df[col] = LabelEncoder().fit_transform(df[col])"
   ]
  },
  {
   "cell_type": "code",
   "execution_count": 9,
   "id": "d0d7826f-aea2-4164-b17c-1ed63d0fa846",
   "metadata": {
    "tags": []
   },
   "outputs": [],
   "source": [
    "le = preprocessing.LabelEncoder()\n",
    "y = le.fit_transform(y)"
   ]
  },
  {
   "cell_type": "code",
   "execution_count": 11,
   "id": "a082bda5-9a4b-4e8b-9d21-6e838d187fe5",
   "metadata": {
    "tags": []
   },
   "outputs": [
    {
     "name": "stdout",
     "output_type": "stream",
     "text": [
      "Looking in indexes: https://pypi.org/simple, https://pip.repos.neuron.amazonaws.com\n",
      "Collecting lazypredict\n",
      "  Downloading lazypredict-0.2.12-py2.py3-none-any.whl (12 kB)\n",
      "Collecting lightgbm\n",
      "  Downloading lightgbm-3.3.5-py3-none-manylinux1_x86_64.whl (2.0 MB)\n",
      "\u001b[2K     \u001b[90m━━━━━━━━━━━━━━━━━━━━━━━━━━━━━━━━━━━━━━━━\u001b[0m \u001b[32m2.0/2.0 MB\u001b[0m \u001b[31m24.7 MB/s\u001b[0m eta \u001b[36m0:00:00\u001b[0m00:01\u001b[0m\n",
      "\u001b[?25hRequirement already satisfied: pandas in /home/ec2-user/anaconda3/envs/tensorflow2_p310/lib/python3.10/site-packages (from lazypredict) (1.4.4)\n",
      "Requirement already satisfied: click in /home/ec2-user/anaconda3/envs/tensorflow2_p310/lib/python3.10/site-packages (from lazypredict) (8.1.3)\n",
      "Collecting xgboost\n",
      "  Downloading xgboost-1.7.5-py3-none-manylinux2014_x86_64.whl (200.3 MB)\n",
      "\u001b[2K     \u001b[90m━━━━━━━━━━━━━━━━━━━━━━━━━━━━━━━━━━━━━━━\u001b[0m \u001b[32m200.3/200.3 MB\u001b[0m \u001b[31m2.6 MB/s\u001b[0m eta \u001b[36m0:00:00\u001b[0m00:01\u001b[0m00:01\u001b[0m\n",
      "\u001b[?25hRequirement already satisfied: joblib in /home/ec2-user/anaconda3/envs/tensorflow2_p310/lib/python3.10/site-packages (from lazypredict) (1.2.0)\n",
      "Requirement already satisfied: scikit-learn in /home/ec2-user/anaconda3/envs/tensorflow2_p310/lib/python3.10/site-packages (from lazypredict) (1.0)\n",
      "Requirement already satisfied: tqdm in /home/ec2-user/anaconda3/envs/tensorflow2_p310/lib/python3.10/site-packages (from lazypredict) (4.63.2)\n",
      "Requirement already satisfied: numpy in /home/ec2-user/anaconda3/envs/tensorflow2_p310/lib/python3.10/site-packages (from lightgbm->lazypredict) (1.21.6)\n",
      "Requirement already satisfied: wheel in /home/ec2-user/anaconda3/envs/tensorflow2_p310/lib/python3.10/site-packages (from lightgbm->lazypredict) (0.38.4)\n",
      "Requirement already satisfied: scipy in /home/ec2-user/anaconda3/envs/tensorflow2_p310/lib/python3.10/site-packages (from lightgbm->lazypredict) (1.8.1)\n",
      "Requirement already satisfied: threadpoolctl>=2.0.0 in /home/ec2-user/anaconda3/envs/tensorflow2_p310/lib/python3.10/site-packages (from scikit-learn->lazypredict) (3.1.0)\n",
      "Requirement already satisfied: python-dateutil>=2.8.1 in /home/ec2-user/anaconda3/envs/tensorflow2_p310/lib/python3.10/site-packages (from pandas->lazypredict) (2.8.2)\n",
      "Requirement already satisfied: pytz>=2020.1 in /home/ec2-user/anaconda3/envs/tensorflow2_p310/lib/python3.10/site-packages (from pandas->lazypredict) (2022.7)\n",
      "Requirement already satisfied: six>=1.5 in /home/ec2-user/anaconda3/envs/tensorflow2_p310/lib/python3.10/site-packages (from python-dateutil>=2.8.1->pandas->lazypredict) (1.16.0)\n",
      "Installing collected packages: xgboost, lightgbm, lazypredict\n",
      "Successfully installed lazypredict-0.2.12 lightgbm-3.3.5 xgboost-1.7.5\n"
     ]
    }
   ],
   "source": [
    "!pip install lazypredict"
   ]
  },
  {
   "cell_type": "code",
   "execution_count": 12,
   "id": "72750446-3c51-4115-8cf7-73550d71e5de",
   "metadata": {
    "tags": []
   },
   "outputs": [
    {
     "name": "stderr",
     "output_type": "stream",
     "text": [
      "100%|██████████| 29/29 [01:59<00:00,  4.12s/it]"
     ]
    },
    {
     "name": "stdout",
     "output_type": "stream",
     "text": [
      "                               Accuracy  Balanced Accuracy  ROC AUC  F1 Score  \\\n",
      "Model                                                                           \n",
      "DecisionTreeClassifier             0.95               0.75     0.75      0.95   \n",
      "BaggingClassifier                  0.97               0.74     0.74      0.96   \n",
      "LGBMClassifier                     0.97               0.74     0.74      0.97   \n",
      "XGBClassifier                      0.97               0.74     0.74      0.97   \n",
      "RandomForestClassifier             0.97               0.73     0.73      0.97   \n",
      "ExtraTreesClassifier               0.97               0.72     0.72      0.96   \n",
      "ExtraTreeClassifier                0.95               0.70     0.70      0.95   \n",
      "KNeighborsClassifier               0.97               0.69     0.69      0.96   \n",
      "SVC                                0.97               0.68     0.68      0.96   \n",
      "Perceptron                         0.83               0.68     0.68      0.87   \n",
      "LinearDiscriminantAnalysis         0.96               0.68     0.68      0.96   \n",
      "BernoulliNB                        0.96               0.68     0.68      0.96   \n",
      "PassiveAggressiveClassifier        0.73               0.67     0.67      0.81   \n",
      "AdaBoostClassifier                 0.97               0.67     0.67      0.96   \n",
      "NearestCentroid                    0.68               0.65     0.65      0.77   \n",
      "LogisticRegression                 0.96               0.62     0.62      0.95   \n",
      "LinearSVC                          0.96               0.61     0.61      0.95   \n",
      "RidgeClassifier                    0.96               0.61     0.61      0.95   \n",
      "RidgeClassifierCV                  0.96               0.61     0.61      0.95   \n",
      "SGDClassifier                      0.96               0.61     0.61      0.95   \n",
      "CalibratedClassifierCV             0.96               0.61     0.61      0.95   \n",
      "GaussianNB                         0.29               0.57     0.57      0.39   \n",
      "QuadraticDiscriminantAnalysis      0.06               0.50     0.50      0.03   \n",
      "DummyClassifier                    0.95               0.50     0.50      0.93   \n",
      "\n",
      "                               Time Taken  \n",
      "Model                                      \n",
      "DecisionTreeClassifier               0.33  \n",
      "BaggingClassifier                    1.47  \n",
      "LGBMClassifier                       0.54  \n",
      "XGBClassifier                        5.81  \n",
      "RandomForestClassifier               3.45  \n",
      "ExtraTreesClassifier                 3.09  \n",
      "ExtraTreeClassifier                  0.15  \n",
      "KNeighborsClassifier                 9.31  \n",
      "SVC                                 57.14  \n",
      "Perceptron                           0.22  \n",
      "LinearDiscriminantAnalysis           0.55  \n",
      "BernoulliNB                          0.29  \n",
      "PassiveAggressiveClassifier          0.18  \n",
      "AdaBoostClassifier                   1.94  \n",
      "NearestCentroid                      0.18  \n",
      "LogisticRegression                   1.14  \n",
      "LinearSVC                            6.91  \n",
      "RidgeClassifier                      0.20  \n",
      "RidgeClassifierCV                    0.28  \n",
      "SGDClassifier                        0.32  \n",
      "CalibratedClassifierCV              24.59  \n",
      "GaussianNB                           0.14  \n",
      "QuadraticDiscriminantAnalysis        0.50  \n",
      "DummyClassifier                      0.12  \n"
     ]
    },
    {
     "name": "stderr",
     "output_type": "stream",
     "text": [
      "\n"
     ]
    }
   ],
   "source": [
    "from lazypredict.Supervised import LazyClassifier\n",
    "import pandas as pd\n",
    "from sklearn.model_selection import train_test_split\n",
    "import gc\n",
    "\n",
    "# Assuming you have your data and labels stored in variables X and y respectively\n",
    "X_train, X_test, y_train, y_test = train_test_split(X, y, test_size=0.2, random_state=42)\n",
    "\n",
    "# Explicitly clean up memory by garbage collection\n",
    "gc.collect()\n",
    "\n",
    "clf = LazyClassifier(verbose=0, ignore_warnings=True)\n",
    "models, predictions = clf.fit(X_train, X_test, y_train, y_test)\n",
    "print(models)"
   ]
  },
  {
   "cell_type": "code",
   "execution_count": null,
   "id": "25ec92d9-6488-455b-a995-9e94cce07231",
   "metadata": {},
   "outputs": [],
   "source": []
  }
 ],
 "metadata": {
  "kernelspec": {
   "display_name": "conda_tensorflow2_p310",
   "language": "python",
   "name": "conda_tensorflow2_p310"
  },
  "language_info": {
   "codemirror_mode": {
    "name": "ipython",
    "version": 3
   },
   "file_extension": ".py",
   "mimetype": "text/x-python",
   "name": "python",
   "nbconvert_exporter": "python",
   "pygments_lexer": "ipython3",
   "version": "3.10.8"
  }
 },
 "nbformat": 4,
 "nbformat_minor": 5
}
