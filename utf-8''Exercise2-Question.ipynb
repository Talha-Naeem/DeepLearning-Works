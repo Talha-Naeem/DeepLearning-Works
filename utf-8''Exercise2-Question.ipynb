{
 "cells": [
  {
   "cell_type": "markdown",
   "metadata": {
    "colab_type": "text",
    "id": "tOoyQ70H00_s"
   },
   "source": [
    "## Exercise 2\n",
    "In the course you learned how to do classificaiton using Fashion MNIST, a data set containing items of clothing. There's another, similar dataset called MNIST which has items of handwriting -- the digits 0 through 9.\n",
    "\n",
    "Write an MNIST classifier that trains to 99% accuracy or above, and does it without a fixed number of epochs -- i.e. you should stop training once you reach that level of accuracy.\n",
    "\n",
    "Some notes:\n",
    "1. It should succeed in less than 10 epochs, so it is okay to change epochs= to 10, but nothing larger\n",
    "2. When it reaches 99% or greater it should print out the string \"Reached 99% accuracy so cancelling training!\"\n",
    "3. If you add any additional variables, make sure you use the same names as the ones used in the class\n",
    "\n",
    "I've started the code for you below -- how would you finish it? "
   ]
  },
  {
   "cell_type": "code",
   "execution_count": 26,
   "metadata": {},
   "outputs": [],
   "source": [
    "import tensorflow as tf\n",
    "from os import path, getcwd, chdir\n",
    "\n",
    "# DO NOT CHANGE THE LINE BELOW. If you are developing in a local\n",
    "# environment, then grab mnist.npz from the Coursera Jupyter Notebook\n",
    "# and place it inside a local folder and edit the path to that location\n",
    "path = f\"{getcwd()}/../tmp2/mnist.npz\""
   ]
  },
  {
   "cell_type": "code",
   "execution_count": 27,
   "metadata": {
    "colab": {},
    "colab_type": "code",
    "id": "9rvXQGAA0ssC"
   },
   "outputs": [],
   "source": [
    "# GRADED FUNCTION: train_mnis\n",
    "def train_mnist():\n",
    "    class myCallback(tf.keras.callbacks.Callback):\n",
    "        def on_epoch_end(self, epoch, logs={}):\n",
    "    \n",
    "            if(logs.get('acc')>0.99 and logs.get('loss')<0.0003):\n",
    "                print('\\\\nReached 99% accuracy so cancelling training! and loss is less than 0.0003')\n",
    "                self.model.stop_training= True\n",
    "    mnist = tf.keras.datasets.mnist\n",
    "    (x_train, y_train),(x_test, y_test) = mnist.load_data(path=path)\n",
    "\n",
    "    x_train, x_test = x_train / 255.0, x_test / 25\n",
    "    callbacks=myCallback()\n",
    "    model = tf.keras.models.Sequential([\n",
    "        tf.keras.layers.Flatten(input_shape=(28, 28)),\n",
    "        tf.keras.layers.Dense(512, activation=tf.nn.relu),\n",
    "        tf.keras.layers.Dense(10, activation=tf.nn.softmax)])\n",
    "\n",
    "    model.compile(optimizer='adam',\n",
    "                  loss='sparse_categorical_crossentropy',\n",
    "                  metrics=['accuracy']\n",
    "                  \n",
    "    )\n",
    "    # model fitting\n",
    "    history=model.fit(x_train, y_train,epochs=9,callbacks=[callbacks])\n",
    "    return history.epoch, history.history['acc'][-1]\n",
    "    # model fitting "
   ]
  },
  {
   "cell_type": "code",
   "execution_count": 28,
   "metadata": {},
   "outputs": [
    {
     "name": "stdout",
     "output_type": "stream",
     "text": [
      "Epoch 1/9\n",
      "60000/60000 [==============================] - 15s 255us/sample - loss: 0.2003 - acc: 0.9406\n",
      "Epoch 2/9\n",
      "60000/60000 [==============================] - 15s 253us/sample - loss: 0.0792 - acc: 0.9765\n",
      "Epoch 3/9\n",
      "60000/60000 [==============================] - 15s 250us/sample - loss: 0.0517 - acc: 0.9841\n",
      "Epoch 4/9\n",
      "60000/60000 [==============================] - 15s 248us/sample - loss: 0.0363 - acc: 0.9884\n",
      "Epoch 5/9\n",
      "60000/60000 [==============================] - 15s 250us/sample - loss: 0.0276 - acc: 0.9911\n",
      "Epoch 6/9\n",
      "60000/60000 [==============================] - 15s 252us/sample - loss: 0.0217 - acc: 0.9930\n",
      "Epoch 7/9\n",
      "60000/60000 [==============================] - 15s 250us/sample - loss: 0.0159 - acc: 0.9948\n",
      "Epoch 8/9\n",
      "60000/60000 [==============================] - 15s 245us/sample - loss: 0.0146 - acc: 0.9952\n",
      "Epoch 9/9\n",
      "60000/60000 [==============================] - 15s 250us/sample - loss: 0.0126 - acc: 0.9957\n"
     ]
    },
    {
     "data": {
      "text/plain": [
       "([0, 1, 2, 3, 4, 5, 6, 7, 8], 0.9957)"
      ]
     },
     "execution_count": 28,
     "metadata": {},
     "output_type": "execute_result"
    }
   ],
   "source": [
    "train_mnist()"
   ]
  },
  {
   "cell_type": "code",
   "execution_count": null,
   "metadata": {},
   "outputs": [],
   "source": []
  }
 ],
 "metadata": {
  "coursera": {
   "course_slug": "introduction-tensorflow",
   "graded_item_id": "d6dew",
   "launcher_item_id": "FExZ4"
  },
  "kernelspec": {
   "display_name": "Python 3",
   "language": "python",
   "name": "python3"
  },
  "language_info": {
   "codemirror_mode": {
    "name": "ipython",
    "version": 3
   },
   "file_extension": ".py",
   "mimetype": "text/x-python",
   "name": "python",
   "nbconvert_exporter": "python",
   "pygments_lexer": "ipython3",
   "version": "3.6.8"
  }
 },
 "nbformat": 4,
 "nbformat_minor": 1
}
