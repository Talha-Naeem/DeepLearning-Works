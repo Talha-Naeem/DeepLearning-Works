{
  "nbformat": 4,
  "nbformat_minor": 0,
  "metadata": {
    "colab": {
      "name": "easyOCR_WITH_openCV.ipynb",
      "provenance": []
    },
    "kernelspec": {
      "name": "python3",
      "display_name": "Python 3"
    },
    "language_info": {
      "name": "python"
    }
  },
  "cells": [
    {
      "cell_type": "code",
      "metadata": {
        "colab": {
          "base_uri": "https://localhost:8080/"
        },
        "id": "9uuSk3e0AlP9",
        "outputId": "daa24dc6-c543-45e8-b9ca-44d93131dcea"
      },
      "source": [
        "!pip install opencv-python\n"
      ],
      "execution_count": null,
      "outputs": [
        {
          "output_type": "stream",
          "name": "stdout",
          "text": [
            "Requirement already satisfied: opencv-python in /usr/local/lib/python3.7/dist-packages (4.1.2.30)\n",
            "Requirement already satisfied: numpy>=1.14.5 in /usr/local/lib/python3.7/dist-packages (from opencv-python) (1.19.5)\n"
          ]
        }
      ]
    },
    {
      "cell_type": "markdown",
      "metadata": {
        "id": "t_I7XnPB2Z5s"
      },
      "source": [
        "# New Section"
      ]
    },
    {
      "cell_type": "code",
      "metadata": {
        "colab": {
          "base_uri": "https://localhost:8080/"
        },
        "id": "FbNYCDxMB-rx",
        "outputId": "ff33cce7-68ea-41b1-890b-502726794b2a"
      },
      "source": [
        "!pip install matplotlib\n"
      ],
      "execution_count": null,
      "outputs": [
        {
          "output_type": "stream",
          "name": "stdout",
          "text": [
            "Requirement already satisfied: matplotlib in /usr/local/lib/python3.7/dist-packages (3.2.2)\n",
            "Requirement already satisfied: kiwisolver>=1.0.1 in /usr/local/lib/python3.7/dist-packages (from matplotlib) (1.3.2)\n",
            "Requirement already satisfied: pyparsing!=2.0.4,!=2.1.2,!=2.1.6,>=2.0.1 in /usr/local/lib/python3.7/dist-packages (from matplotlib) (2.4.7)\n",
            "Requirement already satisfied: cycler>=0.10 in /usr/local/lib/python3.7/dist-packages (from matplotlib) (0.10.0)\n",
            "Requirement already satisfied: numpy>=1.11 in /usr/local/lib/python3.7/dist-packages (from matplotlib) (1.19.5)\n",
            "Requirement already satisfied: python-dateutil>=2.1 in /usr/local/lib/python3.7/dist-packages (from matplotlib) (2.8.2)\n",
            "Requirement already satisfied: six in /usr/local/lib/python3.7/dist-packages (from cycler>=0.10->matplotlib) (1.15.0)\n"
          ]
        }
      ]
    },
    {
      "cell_type": "code",
      "metadata": {
        "colab": {
          "base_uri": "https://localhost:8080/"
        },
        "id": "11atDHvxCWdF",
        "outputId": "b31524a2-b00e-42d7-aeb8-1dcec0e4ea62"
      },
      "source": [
        "!pip install numpy\n"
      ],
      "execution_count": null,
      "outputs": [
        {
          "output_type": "stream",
          "name": "stdout",
          "text": [
            "Requirement already satisfied: numpy in /usr/local/lib/python3.7/dist-packages (1.19.5)\n"
          ]
        }
      ]
    },
    {
      "cell_type": "code",
      "metadata": {
        "colab": {
          "base_uri": "https://localhost:8080/"
        },
        "id": "aV1bTGJCCY5-",
        "outputId": "44ab0720-9e17-4adf-b112-789ea211cd59"
      },
      "source": [
        "!pip install torch==1.7.1+cpu torchvision==0.8.2+cpu torchaudio===0.7.2 -f https://download.pytorch.org/whl/torch_stable.html\n"
      ],
      "execution_count": null,
      "outputs": [
        {
          "output_type": "stream",
          "name": "stdout",
          "text": [
            "Looking in links: https://download.pytorch.org/whl/torch_stable.html\n",
            "Collecting torch==1.7.1+cpu\n",
            "  Downloading https://download.pytorch.org/whl/cpu/torch-1.7.1%2Bcpu-cp37-cp37m-linux_x86_64.whl (159.4 MB)\n",
            "\u001b[K     |████████████████████████████████| 159.4 MB 28 kB/s \n",
            "\u001b[?25hCollecting torchvision==0.8.2+cpu\n",
            "  Downloading https://download.pytorch.org/whl/cpu/torchvision-0.8.2%2Bcpu-cp37-cp37m-linux_x86_64.whl (11.8 MB)\n",
            "\u001b[K     |████████████████████████████████| 11.8 MB 234 kB/s \n",
            "\u001b[?25hCollecting torchaudio===0.7.2\n",
            "  Downloading torchaudio-0.7.2-cp37-cp37m-manylinux1_x86_64.whl (7.6 MB)\n",
            "\u001b[K     |████████████████████████████████| 7.6 MB 7.6 MB/s \n",
            "\u001b[?25hRequirement already satisfied: typing-extensions in /usr/local/lib/python3.7/dist-packages (from torch==1.7.1+cpu) (3.7.4.3)\n",
            "Requirement already satisfied: numpy in /usr/local/lib/python3.7/dist-packages (from torch==1.7.1+cpu) (1.19.5)\n",
            "Requirement already satisfied: pillow>=4.1.1 in /usr/local/lib/python3.7/dist-packages (from torchvision==0.8.2+cpu) (7.1.2)\n",
            "Installing collected packages: torch, torchvision, torchaudio\n",
            "  Attempting uninstall: torch\n",
            "    Found existing installation: torch 1.9.0+cu102\n",
            "    Uninstalling torch-1.9.0+cu102:\n",
            "      Successfully uninstalled torch-1.9.0+cu102\n",
            "  Attempting uninstall: torchvision\n",
            "    Found existing installation: torchvision 0.10.0+cu102\n",
            "    Uninstalling torchvision-0.10.0+cu102:\n",
            "      Successfully uninstalled torchvision-0.10.0+cu102\n",
            "\u001b[31mERROR: pip's dependency resolver does not currently take into account all the packages that are installed. This behaviour is the source of the following dependency conflicts.\n",
            "torchtext 0.10.0 requires torch==1.9.0, but you have torch 1.7.1+cpu which is incompatible.\u001b[0m\n",
            "Successfully installed torch-1.7.1+cpu torchaudio-0.7.2 torchvision-0.8.2+cpu\n"
          ]
        }
      ]
    },
    {
      "cell_type": "code",
      "metadata": {
        "colab": {
          "base_uri": "https://localhost:8080/"
        },
        "id": "IHqByi3XCbWE",
        "outputId": "c336fa5b-6c24-4b6c-da80-b5844e8deb07"
      },
      "source": [
        "!pip install easyocr"
      ],
      "execution_count": null,
      "outputs": [
        {
          "output_type": "stream",
          "name": "stdout",
          "text": [
            "Collecting easyocr\n",
            "  Downloading easyocr-1.4.1-py3-none-any.whl (63.6 MB)\n",
            "\u001b[K     |████████████████████████████████| 63.6 MB 49 kB/s \n",
            "\u001b[?25hRequirement already satisfied: torch in /usr/local/lib/python3.7/dist-packages (from easyocr) (1.7.1+cpu)\n",
            "Requirement already satisfied: Pillow<8.3.0 in /usr/local/lib/python3.7/dist-packages (from easyocr) (7.1.2)\n",
            "Requirement already satisfied: numpy in /usr/local/lib/python3.7/dist-packages (from easyocr) (1.19.5)\n",
            "Requirement already satisfied: scipy in /usr/local/lib/python3.7/dist-packages (from easyocr) (1.4.1)\n",
            "Requirement already satisfied: torchvision>=0.5 in /usr/local/lib/python3.7/dist-packages (from easyocr) (0.8.2+cpu)\n",
            "Collecting opencv-python-headless\n",
            "  Downloading opencv_python_headless-4.5.3.56-cp37-cp37m-manylinux2014_x86_64.whl (37.1 MB)\n",
            "\u001b[K     |████████████████████████████████| 37.1 MB 53 kB/s \n",
            "\u001b[?25hCollecting python-bidi\n",
            "  Downloading python_bidi-0.4.2-py2.py3-none-any.whl (30 kB)\n",
            "Requirement already satisfied: PyYAML in /usr/local/lib/python3.7/dist-packages (from easyocr) (3.13)\n",
            "Requirement already satisfied: scikit-image in /usr/local/lib/python3.7/dist-packages (from easyocr) (0.16.2)\n",
            "Requirement already satisfied: typing-extensions in /usr/local/lib/python3.7/dist-packages (from torch->easyocr) (3.7.4.3)\n",
            "Requirement already satisfied: six in /usr/local/lib/python3.7/dist-packages (from python-bidi->easyocr) (1.15.0)\n",
            "Requirement already satisfied: networkx>=2.0 in /usr/local/lib/python3.7/dist-packages (from scikit-image->easyocr) (2.6.3)\n",
            "Requirement already satisfied: PyWavelets>=0.4.0 in /usr/local/lib/python3.7/dist-packages (from scikit-image->easyocr) (1.1.1)\n",
            "Requirement already satisfied: imageio>=2.3.0 in /usr/local/lib/python3.7/dist-packages (from scikit-image->easyocr) (2.4.1)\n",
            "Requirement already satisfied: matplotlib!=3.0.0,>=2.0.0 in /usr/local/lib/python3.7/dist-packages (from scikit-image->easyocr) (3.2.2)\n",
            "Requirement already satisfied: kiwisolver>=1.0.1 in /usr/local/lib/python3.7/dist-packages (from matplotlib!=3.0.0,>=2.0.0->scikit-image->easyocr) (1.3.2)\n",
            "Requirement already satisfied: pyparsing!=2.0.4,!=2.1.2,!=2.1.6,>=2.0.1 in /usr/local/lib/python3.7/dist-packages (from matplotlib!=3.0.0,>=2.0.0->scikit-image->easyocr) (2.4.7)\n",
            "Requirement already satisfied: cycler>=0.10 in /usr/local/lib/python3.7/dist-packages (from matplotlib!=3.0.0,>=2.0.0->scikit-image->easyocr) (0.10.0)\n",
            "Requirement already satisfied: python-dateutil>=2.1 in /usr/local/lib/python3.7/dist-packages (from matplotlib!=3.0.0,>=2.0.0->scikit-image->easyocr) (2.8.2)\n",
            "Installing collected packages: python-bidi, opencv-python-headless, easyocr\n",
            "Successfully installed easyocr-1.4.1 opencv-python-headless-4.5.3.56 python-bidi-0.4.2\n"
          ]
        }
      ]
    },
    {
      "cell_type": "code",
      "metadata": {
        "id": "V4HwYX70ClTG"
      },
      "source": [
        "import cv2\n",
        "import numpy as np\n",
        "import easyocr\n",
        "import matplotlib.pyplot as plt\n",
        "%matplotlib inline"
      ],
      "execution_count": null,
      "outputs": []
    },
    {
      "cell_type": "code",
      "metadata": {
        "id": "CE6wOHi-Dn8Q"
      },
      "source": [
        "im_1_path = '/content/WhatsApp Image 2021-10-03 at 11.29.59.jpeg'"
      ],
      "execution_count": null,
      "outputs": []
    },
    {
      "cell_type": "code",
      "metadata": {
        "id": "_rhpauPYIeUL"
      },
      "source": [
        "def recognize_text(img_path):\n",
        "    '''loads an image and recognizes text.'''\n",
        "    \n",
        "    reader = easyocr.Reader(['en'])\n",
        "    return reader.readtext(img_path)"
      ],
      "execution_count": null,
      "outputs": []
    },
    {
      "cell_type": "code",
      "metadata": {
        "colab": {
          "base_uri": "https://localhost:8080/"
        },
        "id": "-k4NvzhNIiej",
        "outputId": "840a7f19-50cc-4a62-a191-e935ef736ed6"
      },
      "source": [
        "result = recognize_text(im_1_path)\n",
        "result"
      ],
      "execution_count": null,
      "outputs": [
        {
          "output_type": "stream",
          "name": "stderr",
          "text": [
            "CUDA not available - defaulting to CPU. Note: This module is much faster with a GPU.\n",
            "Downloading detection model, please wait. This may take several minutes depending upon your network connection.\n"
          ]
        },
        {
          "output_type": "stream",
          "name": "stdout",
          "text": [
            ""
          ]
        },
        {
          "output_type": "stream",
          "name": "stderr",
          "text": [
            "Downloading recognition model, please wait. This may take several minutes depending upon your network connection.\n"
          ]
        },
        {
          "output_type": "stream",
          "name": "stdout",
          "text": [
            ""
          ]
        },
        {
          "output_type": "execute_result",
          "data": {
            "text/plain": [
              "[([[445, 146], [744, 146], [744, 175], [445, 175]],\n",
              "  'GENERATORS INSTALLED AT EMAAR CORAL Tower DHA',\n",
              "  0.5669329959530025),\n",
              " ([[116, 160], [450, 160], [450, 187], [116, 187]],\n",
              "  'DAILY CHECK LiST FOR OPERATION AND MAINTENANCE OF DIESEL',\n",
              "  0.8048032575067119),\n",
              " ([[343, 178], [516, 178], [516, 210], [343, 210]],\n",
              "  'MAYPHIL PERKINS',\n",
              "  0.9043685522159381),\n",
              " ([[617, 185], [661, 185], [661, 201], [617, 201]],\n",
              "  'DGlO2',\n",
              "  0.13216959091451003),\n",
              " ([[670, 182], [717, 182], [717, 200], [670, 200]],\n",
              "  '0.9402',\n",
              "  0.7120661888103418),\n",
              " ([[727, 181], [771, 181], [771, 195], [727, 195]],\n",
              "  'D.G40?',\n",
              "  0.1160225855830412),\n",
              " ([[84, 210], [108, 210], [108, 218], [84, 218]],\n",
              "  'Datc:',\n",
              "  0.27882410595715834),\n",
              " ([[619, 211], [669, 211], [669, 225], [619, 225]],\n",
              "  '10OO KVA',\n",
              "  0.32344745794090835),\n",
              " ([[673, 209], [723, 209], [723, 223], [673, 223]],\n",
              "  '1og0KVA',\n",
              "  0.14104347106747447),\n",
              " ([[727, 207], [779, 207], [779, 221], [727, 221]],\n",
              "  '0250 KuA',\n",
              "  0.3925426221934929),\n",
              " ([[381, 210], [478, 210], [478, 234], [381, 234]],\n",
              "  'DESCRIPTION',\n",
              "  0.999254971461857),\n",
              " ([[82, 234], [110, 234], [110, 242], [82, 242]], 'UMe:', 0.06516671180725098),\n",
              " ([[82, 248], [215, 248], [215, 266], [82, 266]],\n",
              "  'Check lubrcating olllevel:',\n",
              "  0.6228077759967814),\n",
              " ([[83, 269], [183, 269], [183, 283], [83, 283]],\n",
              "  'Check coolant level:',\n",
              "  0.4752343945714763),\n",
              " ([[82, 287], [277, 287], [277, 302], [82, 302]],\n",
              "  'Check opentlon olfuel trnsfecpump',\n",
              "  0.10306687540501935),\n",
              " ([[83, 307], [251, 307], [251, 323], [83, 323]],\n",
              "  'Exemine 2IlsYstems for Ieakates',\n",
              "  0.07303923282352852),\n",
              " ([[82, 320], [430, 320], [430, 344], [82, 344]],\n",
              "  'Check battery electrolyte level fillwith distilled Water a9 necessuny:',\n",
              "  0.25509100565301857),\n",
              " ([[83, 345], [295, 345], [295, 363], [83, 363]],\n",
              "  'Check electrical connecuons for tEhtness ',\n",
              "  0.24245085736092264),\n",
              " ([[299, 339], [389, 339], [389, 358], [299, 358]],\n",
              "  'leaks sulphatlon:_',\n",
              "  0.5123446965578676),\n",
              " ([[83, 362], [339, 362], [339, 381], [83, 381]],\n",
              "  'Fuel trnsier pump leakare Inall distributlon Iines',\n",
              "  0.21894140397914133),\n",
              " ([[83, 383], [363, 383], [363, 401], [83, 401]],\n",
              "  'Oeck cleanllness and dryness between terminal posts:',\n",
              "  0.28673415571339195),\n",
              " ([[83, 405], [249, 405], [249, 421], [83, 421]],\n",
              "  'CheckBoveror control inkages',\n",
              "  0.42871973437336053),\n",
              " ([[85, 423], [281, 423], [281, 441], [85, 441]],\n",
              "  'Check fan beIt andprotectivg devices:',\n",
              "  0.21165180586150942),\n",
              " ([[85, 441], [317, 441], [317, 461], [85, 461]],\n",
              "  'Check allannunciating lamps for malfunctlon_',\n",
              "  0.6451837525341975),\n",
              " ([[84, 463], [283, 463], [283, 482], [84, 482]],\n",
              "  'Check restriction Indicator_foralr lilter',\n",
              "  0.3305566207480305),\n",
              " ([[85, 485], [199, 485], [199, 499], [85, 499]],\n",
              "  'Check batter termina',\n",
              "  0.23919554579605454),\n",
              " ([[207, 483], [271, 483], [271, 497], [207, 497]],\n",
              "  'before s0',\n",
              "  0.23278903469022605),\n",
              " ([[85, 503], [199, 503], [199, 519], [85, 519]],\n",
              "  'Ceck HEL sensoran',\n",
              "  0.5306804187562806),\n",
              " ([[227, 501], [361, 501], [361, 517], [227, 517]],\n",
              "  'polnteroperly connected',\n",
              "  0.5547152274201671),\n",
              " ([[85, 523], [281, 523], [281, 539], [85, 539]],\n",
              "  'Clean thegenentorset_controlpangl',\n",
              "  0.5713185850291361),\n",
              " ([[85, 541], [359, 541], [359, 559], [85, 559]],\n",
              "  'Observg the functioning of electronic battencharger',\n",
              "  0.26938288668551286),\n",
              " ([[83, 563], [285, 563], [285, 579], [83, 579]],\n",
              "  'Check run hours Lmeand (epontnoug_',\n",
              "  0.25161101148620774),\n",
              " ([[83, 583], [247, 583], [247, 599], [83, 599]],\n",
              "  'Check emereengy batten Iignts',\n",
              "  0.2583733258940798),\n",
              " ([[81, 603], [181, 603], [181, 619], [81, 619]],\n",
              "  'KWhours readlng',\n",
              "  0.35052285649630693),\n",
              " ([[83, 621], [245, 621], [245, 639], [83, 639]],\n",
              "  'Genertor iuel @nk level (liters',\n",
              "  0.3136409032129006),\n",
              " ([[81, 643], [223, 643], [223, 657], [81, 657]],\n",
              "  'Maln fuel tank Ievel ters)',\n",
              "  0.2422665534439706),\n",
              " ([[83, 663], [147, 663], [147, 677], [83, 677]],\n",
              "  'BalLeMvolt:',\n",
              "  0.16441484797994935),\n",
              " ([[81, 681], [333, 681], [333, 697], [81, 697]],\n",
              "  'Immediately report and take correctve Measure',\n",
              "  0.5275631635838425),\n",
              " ([[345, 677], [497, 677], [497, 693], [345, 693]],\n",
              "  'case-of any abnormality/non',\n",
              "  0.5677958926845044),\n",
              " ([[503, 675], [581, 675], [581, 691], [503, 691]],\n",
              "  'compliance of',\n",
              "  0.9487815097444688),\n",
              " ([[81, 703], [169, 703], [169, 717], [81, 717]],\n",
              "  'above check llt',\n",
              "  0.41898785884025336),\n",
              " ([[81, 721], [161, 721], [161, 737], [81, 737]],\n",
              "  'KE Supply Jerk',\n",
              "  0.4165536181231231),\n",
              " ([[79, 777], [147, 777], [147, 793], [79, 793]],\n",
              "  'Checked by:',\n",
              "  0.9506371159774079),\n",
              " ([[657, 807], [783, 807], [783, 821], [657, 821]],\n",
              "  'Maintenance Manager',\n",
              "  0.9823639219866857),\n",
              " ([[409, 887], [471, 887], [471, 901], [409, 901]],\n",
              "  'Comments:',\n",
              "  0.4822333341310611),\n",
              " ([[196.21913119055696, 504.37530495244556],\n",
              "   [227.90055163636458, 501.56525093416883],\n",
              "   [228.78086880944304, 513.6246950475544],\n",
              "   [197.09944836363542, 516.4347490658312]],\n",
              "  'eanh',\n",
              "  0.6291040182113647)]"
            ]
          },
          "metadata": {},
          "execution_count": 6
        }
      ]
    },
    {
      "cell_type": "code",
      "metadata": {
        "id": "p3QgFPVX517j",
        "colab": {
          "base_uri": "https://localhost:8080/"
        },
        "outputId": "d5675bfe-96ff-491d-97ff-06baa9c9b76c"
      },
      "source": [
        "li=\"\"\n",
        "for i in result:\n",
        "  print(i[1])\n",
        "  #li.append(i[1])\n",
        "  li+=\" \"+i[1]"
      ],
      "execution_count": null,
      "outputs": [
        {
          "output_type": "stream",
          "name": "stdout",
          "text": [
            "sales@retaillix com\n",
            "supportegrandpagus\n",
            "com\n",
            "example@yourdomain.com\n",
            "supportegrillart.com\n",
            "username@example_\n",
            "com\n",
            "info@murphysnaturals com\n",
            "support@swimlinecorp.com\n",
            "your@email.com\n",
            "api-services-support@amazon.com\n",
            "info@sanco-technologies com\n",
            "joe@example com\n",
            "cheryl_vion-hasenaur@andersonsi_\n",
            "talentacquisition@andersonsinc com\n",
            "investor_relations@andersonsinc C .=\n",
            "anne_rex@andersonsinc com\n"
          ]
        }
      ]
    },
    {
      "cell_type": "code",
      "metadata": {
        "colab": {
          "base_uri": "https://localhost:8080/",
          "height": 52
        },
        "id": "ekB0Ib777N-N",
        "outputId": "311d2708-f91e-4065-c327-0932495b38b0"
      },
      "source": [
        "li"
      ],
      "execution_count": null,
      "outputs": [
        {
          "output_type": "execute_result",
          "data": {
            "application/vnd.google.colaboratory.intrinsic+json": {
              "type": "string"
            },
            "text/plain": [
              "' \"Don\\'t develop friendship with the enemy of your friend; otherwise your friend will turn into an enemy Hazrat Ali= (Radi-Allahu anhu)'"
            ]
          },
          "metadata": {},
          "execution_count": 45
        }
      ]
    },
    {
      "cell_type": "code",
      "metadata": {
        "colab": {
          "base_uri": "https://localhost:8080/"
        },
        "id": "4ZDB0-g_9r_f",
        "outputId": "953c4104-2136-4122-d96a-7b8faf4c14e3"
      },
      "source": [
        "import re\n",
        "my_str = li\n",
        "my_new_string = re.sub('[^a-zA-Z0-9 \\n\\.]', '', my_str)\n",
        "print (my_new_string)"
      ],
      "execution_count": null,
      "outputs": [
        {
          "output_type": "stream",
          "name": "stdout",
          "text": [
            " Dont develop friendship with the enemy of your friend otherwise your friend will turn into an enemy Hazrat Ali RadiAllahu anhu\n"
          ]
        }
      ]
    },
    {
      "cell_type": "code",
      "metadata": {
        "id": "ipfsbBH68v_O"
      },
      "source": [
        "li.replace"
      ],
      "execution_count": null,
      "outputs": []
    },
    {
      "cell_type": "code",
      "metadata": {
        "colab": {
          "base_uri": "https://localhost:8080/",
          "height": 286
        },
        "id": "7XXcrf43ImfG",
        "outputId": "5ee18358-4936-4b0c-a2a7-192c12613b30"
      },
      "source": [
        "img_1 = cv2.imread(im_1_path)\n",
        "img_1 = cv2.cvtColor(img_1, cv2.COLOR_BGR2RGB)\n",
        "plt.imshow(img_1)"
      ],
      "execution_count": null,
      "outputs": [
        {
          "output_type": "execute_result",
          "data": {
            "text/plain": [
              "<matplotlib.image.AxesImage at 0x7f719b2eb910>"
            ]
          },
          "metadata": {},
          "execution_count": 13
        },
        {
          "output_type": "display_data",
          "data": {
            "image/png": "[encoded data removed]",
            "text/plain": [
              "<Figure size 432x288 with 1 Axes>"
            ]
          },
          "metadata": {
            "needs_background": "light"
          }
        }
      ]
    },
    {
      "cell_type": "code",
      "metadata": {
        "id": "sCM_ZaRdKUi7"
      },
      "source": [
        "def overlay_ocr_text(img_path, save_name):\n",
        "    '''loads an image, recognizes text, and overlays the text on the image.'''\n",
        "    \n",
        "    # loads image\n",
        "    img = cv2.imread(img_path)\n",
        "    img = cv2.cvtColor(img, cv2.COLOR_BGR2RGB)\n",
        "    \n",
        "    dpi = 80\n",
        "    fig_width, fig_height = int(img.shape[0]/dpi), int(img.shape[1]/dpi)\n",
        "    plt.figure()\n",
        "    f, axarr = plt.subplots(1,2, figsize=(fig_width, fig_height)) \n",
        "    axarr[0].imshow(img)\n",
        "    \n",
        "    # recognize text\n",
        "    result = recognize_text(img_path)\n",
        "\n",
        "    # if OCR prob is over 0.5, overlay bounding box and text\n",
        "    for (bbox, text, prob) in result:\n",
        "        if prob >= 0.5:\n",
        "            # display \n",
        "            print(f'Detected text: {text} (Probability: {prob:.2f})')\n",
        "\n",
        "            # get top-left and bottom-right bbox vertices\n",
        "            (top_left, top_right, bottom_right, bottom_left) = bbox\n",
        "            top_left = (int(top_left[0]), int(top_left[1]))\n",
        "            bottom_right = (int(bottom_right[0]), int(bottom_right[1]))\n",
        "\n",
        "            # create a rectangle for bbox display\n",
        "            cv2.rectangle(img=img, pt1=top_left, pt2=bottom_right, color=(255, 0, 0), thickness=10)\n",
        "\n",
        "            # put recognized text\n",
        "            cv2.putText(img=img, text=text, org=(top_left[0], top_left[1] - 10), fontFace=cv2.FONT_HERSHEY_SIMPLEX, fontScale=1, color=(255, 0, 0), thickness=8)\n",
        "        \n",
        "    # show and save image\n",
        "    axarr[1].imshow(img)\n",
        "    plt.savefig(f'./output/{save_name}_overlay.jpg', bbox_inches='tight')"
      ],
      "execution_count": null,
      "outputs": []
    },
    {
      "cell_type": "code",
      "metadata": {
        "colab": {
          "base_uri": "https://localhost:8080/",
          "height": 555
        },
        "id": "pB5nfC8qKcC-",
        "outputId": "685b19c6-d472-43d6-b062-d453879a7b29"
      },
      "source": [
        "overlay_ocr_text(im_1_path, '1_carplate')"
      ],
      "execution_count": null,
      "outputs": [
        {
          "output_type": "stream",
          "name": "stderr",
          "text": [
            "CUDA not available - defaulting to CPU. Note: This module is much faster with a GPU.\n"
          ]
        },
        {
          "output_type": "stream",
          "name": "stdout",
          "text": [
            "Detected text: \"Don't develop (Probability: 0.99)\n",
            "Detected text: friendship with the (Probability: 0.96)\n",
            "Detected text: enemy of your (Probability: 0.93)\n",
            "Detected text: friend; otherwise (Probability: 0.94)\n",
            "Detected text: your friend will turn (Probability: 1.00)\n",
            "Detected text: into an enemy (Probability: 0.99)\n",
            "Detected text: (Radi-Allahu anhu) (Probability: 1.00)\n"
          ]
        },
        {
          "output_type": "error",
          "ename": "FileNotFoundError",
          "evalue": "ignored",
          "traceback": [
            "\u001b[0;31m---------------------------------------------------------------------------\u001b[0m",
            "\u001b[0;31mFileNotFoundError\u001b[0m                         Traceback (most recent call last)",
            "\u001b[0;32m<ipython-input-15-83bb1cef24df>\u001b[0m in \u001b[0;36m<module>\u001b[0;34m()\u001b[0m\n\u001b[0;32m----> 1\u001b[0;31m \u001b[0moverlay_ocr_text\u001b[0m\u001b[0;34m(\u001b[0m\u001b[0mim_1_path\u001b[0m\u001b[0;34m,\u001b[0m \u001b[0;34m'1_carplate'\u001b[0m\u001b[0;34m)\u001b[0m\u001b[0;34m\u001b[0m\u001b[0;34m\u001b[0m\u001b[0m\n\u001b[0m",
            "\u001b[0;32m<ipython-input-14-28c7dd23899c>\u001b[0m in \u001b[0;36moverlay_ocr_text\u001b[0;34m(img_path, save_name)\u001b[0m\n\u001b[1;32m     34\u001b[0m     \u001b[0;31m# show and save image\u001b[0m\u001b[0;34m\u001b[0m\u001b[0;34m\u001b[0m\u001b[0;34m\u001b[0m\u001b[0m\n\u001b[1;32m     35\u001b[0m     \u001b[0maxarr\u001b[0m\u001b[0;34m[\u001b[0m\u001b[0;36m1\u001b[0m\u001b[0;34m]\u001b[0m\u001b[0;34m.\u001b[0m\u001b[0mimshow\u001b[0m\u001b[0;34m(\u001b[0m\u001b[0mimg\u001b[0m\u001b[0;34m)\u001b[0m\u001b[0;34m\u001b[0m\u001b[0;34m\u001b[0m\u001b[0m\n\u001b[0;32m---> 36\u001b[0;31m     \u001b[0mplt\u001b[0m\u001b[0;34m.\u001b[0m\u001b[0msavefig\u001b[0m\u001b[0;34m(\u001b[0m\u001b[0;34mf'./output/{save_name}_overlay.jpg'\u001b[0m\u001b[0;34m,\u001b[0m \u001b[0mbbox_inches\u001b[0m\u001b[0;34m=\u001b[0m\u001b[0;34m'tight'\u001b[0m\u001b[0;34m)\u001b[0m\u001b[0;34m\u001b[0m\u001b[0;34m\u001b[0m\u001b[0m\n\u001b[0m",
            "\u001b[0;32m/usr/local/lib/python3.7/dist-packages/matplotlib/pyplot.py\u001b[0m in \u001b[0;36msavefig\u001b[0;34m(*args, **kwargs)\u001b[0m\n\u001b[1;32m    721\u001b[0m \u001b[0;32mdef\u001b[0m \u001b[0msavefig\u001b[0m\u001b[0;34m(\u001b[0m\u001b[0;34m*\u001b[0m\u001b[0margs\u001b[0m\u001b[0;34m,\u001b[0m \u001b[0;34m**\u001b[0m\u001b[0mkwargs\u001b[0m\u001b[0;34m)\u001b[0m\u001b[0;34m:\u001b[0m\u001b[0;34m\u001b[0m\u001b[0;34m\u001b[0m\u001b[0m\n\u001b[1;32m    722\u001b[0m     \u001b[0mfig\u001b[0m \u001b[0;34m=\u001b[0m \u001b[0mgcf\u001b[0m\u001b[0;34m(\u001b[0m\u001b[0;34m)\u001b[0m\u001b[0;34m\u001b[0m\u001b[0;34m\u001b[0m\u001b[0m\n\u001b[0;32m--> 723\u001b[0;31m     \u001b[0mres\u001b[0m \u001b[0;34m=\u001b[0m \u001b[0mfig\u001b[0m\u001b[0;34m.\u001b[0m\u001b[0msavefig\u001b[0m\u001b[0;34m(\u001b[0m\u001b[0;34m*\u001b[0m\u001b[0margs\u001b[0m\u001b[0;34m,\u001b[0m \u001b[0;34m**\u001b[0m\u001b[0mkwargs\u001b[0m\u001b[0;34m)\u001b[0m\u001b[0;34m\u001b[0m\u001b[0;34m\u001b[0m\u001b[0m\n\u001b[0m\u001b[1;32m    724\u001b[0m     \u001b[0mfig\u001b[0m\u001b[0;34m.\u001b[0m\u001b[0mcanvas\u001b[0m\u001b[0;34m.\u001b[0m\u001b[0mdraw_idle\u001b[0m\u001b[0;34m(\u001b[0m\u001b[0;34m)\u001b[0m   \u001b[0;31m# need this if 'transparent=True' to reset colors\u001b[0m\u001b[0;34m\u001b[0m\u001b[0;34m\u001b[0m\u001b[0m\n\u001b[1;32m    725\u001b[0m     \u001b[0;32mreturn\u001b[0m \u001b[0mres\u001b[0m\u001b[0;34m\u001b[0m\u001b[0;34m\u001b[0m\u001b[0m\n",
            "\u001b[0;32m/usr/local/lib/python3.7/dist-packages/matplotlib/figure.py\u001b[0m in \u001b[0;36msavefig\u001b[0;34m(self, fname, transparent, **kwargs)\u001b[0m\n\u001b[1;32m   2201\u001b[0m             \u001b[0mself\u001b[0m\u001b[0;34m.\u001b[0m\u001b[0mpatch\u001b[0m\u001b[0;34m.\u001b[0m\u001b[0mset_visible\u001b[0m\u001b[0;34m(\u001b[0m\u001b[0mframeon\u001b[0m\u001b[0;34m)\u001b[0m\u001b[0;34m\u001b[0m\u001b[0;34m\u001b[0m\u001b[0m\n\u001b[1;32m   2202\u001b[0m \u001b[0;34m\u001b[0m\u001b[0m\n\u001b[0;32m-> 2203\u001b[0;31m         \u001b[0mself\u001b[0m\u001b[0;34m.\u001b[0m\u001b[0mcanvas\u001b[0m\u001b[0;34m.\u001b[0m\u001b[0mprint_figure\u001b[0m\u001b[0;34m(\u001b[0m\u001b[0mfname\u001b[0m\u001b[0;34m,\u001b[0m \u001b[0;34m**\u001b[0m\u001b[0mkwargs\u001b[0m\u001b[0;34m)\u001b[0m\u001b[0;34m\u001b[0m\u001b[0;34m\u001b[0m\u001b[0m\n\u001b[0m\u001b[1;32m   2204\u001b[0m \u001b[0;34m\u001b[0m\u001b[0m\n\u001b[1;32m   2205\u001b[0m         \u001b[0;32mif\u001b[0m \u001b[0mframeon\u001b[0m\u001b[0;34m:\u001b[0m\u001b[0;34m\u001b[0m\u001b[0;34m\u001b[0m\u001b[0m\n",
            "\u001b[0;32m/usr/local/lib/python3.7/dist-packages/matplotlib/backend_bases.py\u001b[0m in \u001b[0;36mprint_figure\u001b[0;34m(self, filename, dpi, facecolor, edgecolor, orientation, format, bbox_inches, **kwargs)\u001b[0m\n\u001b[1;32m   2124\u001b[0m                     \u001b[0morientation\u001b[0m\u001b[0;34m=\u001b[0m\u001b[0morientation\u001b[0m\u001b[0;34m,\u001b[0m\u001b[0;34m\u001b[0m\u001b[0;34m\u001b[0m\u001b[0m\n\u001b[1;32m   2125\u001b[0m                     \u001b[0mbbox_inches_restore\u001b[0m\u001b[0;34m=\u001b[0m\u001b[0m_bbox_inches_restore\u001b[0m\u001b[0;34m,\u001b[0m\u001b[0;34m\u001b[0m\u001b[0;34m\u001b[0m\u001b[0m\n\u001b[0;32m-> 2126\u001b[0;31m                     **kwargs)\n\u001b[0m\u001b[1;32m   2127\u001b[0m             \u001b[0;32mfinally\u001b[0m\u001b[0;34m:\u001b[0m\u001b[0;34m\u001b[0m\u001b[0;34m\u001b[0m\u001b[0m\n\u001b[1;32m   2128\u001b[0m                 \u001b[0;32mif\u001b[0m \u001b[0mbbox_inches\u001b[0m \u001b[0;32mand\u001b[0m \u001b[0mrestore_bbox\u001b[0m\u001b[0;34m:\u001b[0m\u001b[0;34m\u001b[0m\u001b[0;34m\u001b[0m\u001b[0m\n",
            "\u001b[0;32m/usr/local/lib/python3.7/dist-packages/matplotlib/cbook/deprecation.py\u001b[0m in \u001b[0;36mwrapper\u001b[0;34m(*args, **kwargs)\u001b[0m\n\u001b[1;32m    356\u001b[0m                 \u001b[0;34mf\"%(removal)s.  If any parameter follows {name!r}, they \"\u001b[0m\u001b[0;34m\u001b[0m\u001b[0;34m\u001b[0m\u001b[0m\n\u001b[1;32m    357\u001b[0m                 f\"should be pass as keyword, not positionally.\")\n\u001b[0;32m--> 358\u001b[0;31m         \u001b[0;32mreturn\u001b[0m \u001b[0mfunc\u001b[0m\u001b[0;34m(\u001b[0m\u001b[0;34m*\u001b[0m\u001b[0margs\u001b[0m\u001b[0;34m,\u001b[0m \u001b[0;34m**\u001b[0m\u001b[0mkwargs\u001b[0m\u001b[0;34m)\u001b[0m\u001b[0;34m\u001b[0m\u001b[0;34m\u001b[0m\u001b[0m\n\u001b[0m\u001b[1;32m    359\u001b[0m \u001b[0;34m\u001b[0m\u001b[0m\n\u001b[1;32m    360\u001b[0m     \u001b[0;32mreturn\u001b[0m \u001b[0mwrapper\u001b[0m\u001b[0;34m\u001b[0m\u001b[0;34m\u001b[0m\u001b[0m\n",
            "\u001b[0;32m/usr/local/lib/python3.7/dist-packages/matplotlib/backends/backend_agg.py\u001b[0m in \u001b[0;36mprint_jpg\u001b[0;34m(self, filename_or_obj, dryrun, pil_kwargs, *args, **kwargs)\u001b[0m\n\u001b[1;32m    598\u001b[0m             \u001b[0mpil_kwargs\u001b[0m\u001b[0;34m.\u001b[0m\u001b[0msetdefault\u001b[0m\u001b[0;34m(\u001b[0m\u001b[0;34m\"dpi\"\u001b[0m\u001b[0;34m,\u001b[0m \u001b[0;34m(\u001b[0m\u001b[0mself\u001b[0m\u001b[0;34m.\u001b[0m\u001b[0mfigure\u001b[0m\u001b[0;34m.\u001b[0m\u001b[0mdpi\u001b[0m\u001b[0;34m,\u001b[0m \u001b[0mself\u001b[0m\u001b[0;34m.\u001b[0m\u001b[0mfigure\u001b[0m\u001b[0;34m.\u001b[0m\u001b[0mdpi\u001b[0m\u001b[0;34m)\u001b[0m\u001b[0;34m)\u001b[0m\u001b[0;34m\u001b[0m\u001b[0;34m\u001b[0m\u001b[0m\n\u001b[1;32m    599\u001b[0m             return background.save(\n\u001b[0;32m--> 600\u001b[0;31m                 filename_or_obj, format='jpeg', **pil_kwargs)\n\u001b[0m\u001b[1;32m    601\u001b[0m \u001b[0;34m\u001b[0m\u001b[0m\n\u001b[1;32m    602\u001b[0m         \u001b[0mprint_jpeg\u001b[0m \u001b[0;34m=\u001b[0m \u001b[0mprint_jpg\u001b[0m\u001b[0;34m\u001b[0m\u001b[0;34m\u001b[0m\u001b[0m\n",
            "\u001b[0;32m/usr/local/lib/python3.7/dist-packages/PIL/Image.py\u001b[0m in \u001b[0;36msave\u001b[0;34m(self, fp, format, **params)\u001b[0m\n\u001b[1;32m   2129\u001b[0m                 \u001b[0mfp\u001b[0m \u001b[0;34m=\u001b[0m \u001b[0mbuiltins\u001b[0m\u001b[0;34m.\u001b[0m\u001b[0mopen\u001b[0m\u001b[0;34m(\u001b[0m\u001b[0mfilename\u001b[0m\u001b[0;34m,\u001b[0m \u001b[0;34m\"r+b\"\u001b[0m\u001b[0;34m)\u001b[0m\u001b[0;34m\u001b[0m\u001b[0;34m\u001b[0m\u001b[0m\n\u001b[1;32m   2130\u001b[0m             \u001b[0;32melse\u001b[0m\u001b[0;34m:\u001b[0m\u001b[0;34m\u001b[0m\u001b[0;34m\u001b[0m\u001b[0m\n\u001b[0;32m-> 2131\u001b[0;31m                 \u001b[0mfp\u001b[0m \u001b[0;34m=\u001b[0m \u001b[0mbuiltins\u001b[0m\u001b[0;34m.\u001b[0m\u001b[0mopen\u001b[0m\u001b[0;34m(\u001b[0m\u001b[0mfilename\u001b[0m\u001b[0;34m,\u001b[0m \u001b[0;34m\"w+b\"\u001b[0m\u001b[0;34m)\u001b[0m\u001b[0;34m\u001b[0m\u001b[0;34m\u001b[0m\u001b[0m\n\u001b[0m\u001b[1;32m   2132\u001b[0m \u001b[0;34m\u001b[0m\u001b[0m\n\u001b[1;32m   2133\u001b[0m         \u001b[0;32mtry\u001b[0m\u001b[0;34m:\u001b[0m\u001b[0;34m\u001b[0m\u001b[0;34m\u001b[0m\u001b[0m\n",
            "\u001b[0;31mFileNotFoundError\u001b[0m: [Errno 2] No such file or directory: './output/1_carplate_overlay.jpg'"
          ]
        },
        {
          "output_type": "display_data",
          "data": {
            "text/plain": [
              "<Figure size 432x288 with 0 Axes>"
            ]
          },
          "metadata": {}
        },
        {
          "output_type": "display_data",
          "data": {
            "image/png": "[encoded data removed]",
            "text/plain": [
              "<Figure size 144x144 with 2 Axes>"
            ]
          },
          "metadata": {
            "needs_background": "light"
          }
        }
      ]
    },
    {
      "cell_type": "code",
      "metadata": {
        "colab": {
          "base_uri": "https://localhost:8080/"
        },
        "id": "pxEj3BHW8Odd",
        "outputId": "50f8568e-b854-4f42-cc88-02bd7f287745"
      },
      "source": [
        "!pip install gTTS"
      ],
      "execution_count": null,
      "outputs": [
        {
          "output_type": "stream",
          "name": "stdout",
          "text": [
            "Collecting gTTS\n",
            "  Downloading gTTS-2.2.3-py3-none-any.whl (25 kB)\n",
            "Requirement already satisfied: click in /usr/local/lib/python3.7/dist-packages (from gTTS) (7.1.2)\n",
            "Requirement already satisfied: requests in /usr/local/lib/python3.7/dist-packages (from gTTS) (2.23.0)\n",
            "Requirement already satisfied: six in /usr/local/lib/python3.7/dist-packages (from gTTS) (1.15.0)\n",
            "Requirement already satisfied: chardet<4,>=3.0.2 in /usr/local/lib/python3.7/dist-packages (from requests->gTTS) (3.0.4)\n",
            "Requirement already satisfied: idna<3,>=2.5 in /usr/local/lib/python3.7/dist-packages (from requests->gTTS) (2.10)\n",
            "Requirement already satisfied: certifi>=2017.4.17 in /usr/local/lib/python3.7/dist-packages (from requests->gTTS) (2021.5.30)\n",
            "Requirement already satisfied: urllib3!=1.25.0,!=1.25.1,<1.26,>=1.21.1 in /usr/local/lib/python3.7/dist-packages (from requests->gTTS) (1.24.3)\n",
            "Installing collected packages: gTTS\n",
            "Successfully installed gTTS-2.2.3\n"
          ]
        }
      ]
    },
    {
      "cell_type": "code",
      "metadata": {
        "id": "oqnj6NgJKjy4",
        "colab": {
          "base_uri": "https://localhost:8080/"
        },
        "outputId": "713d0f4f-7f4a-40d7-de5d-f358a73470bc"
      },
      "source": [
        "# Import the required module for text\n",
        "# to speech conversion\n",
        "from gtts import gTTS\n",
        "\n",
        "# This module is imported so that we can\n",
        "# play the converted audio\n",
        "import os\n",
        "\n",
        "# The text that you want to convert to audio\n",
        "mytext = my_new_string\n",
        "\n",
        "# Language in which you want to convert\n",
        "language = 'en'\n",
        "\n",
        "# Passing the text and language to the engine,\n",
        "# here we have marked slow=False. Which tells\n",
        "# the module that the converted audio should\n",
        "# have a high speed\n",
        "myobj = gTTS(text=mytext, lang=language, slow=False)\n",
        "\n",
        "# Saving the converted audio in a mp3 file named\n",
        "# welcome\n",
        "myobj.save(\"wel.mp3\")\n",
        "\n",
        "# Playing the converted file\n",
        "os.system(\"mpg321 wel.mp3\")\n"
      ],
      "execution_count": null,
      "outputs": [
        {
          "output_type": "execute_result",
          "data": {
            "text/plain": [
              "32512"
            ]
          },
          "metadata": {},
          "execution_count": 19
        }
      ]
    },
    {
      "cell_type": "code",
      "metadata": {
        "id": "vm657oZx8JJ7"
      },
      "source": [
        ""
      ],
      "execution_count": null,
      "outputs": []
    }
  ]
}