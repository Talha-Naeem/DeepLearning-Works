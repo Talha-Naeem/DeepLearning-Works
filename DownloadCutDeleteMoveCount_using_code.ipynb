{
  "nbformat": 4,
  "nbformat_minor": 0,
  "metadata": {
    "colab": {
      "provenance": []
    },
    "kernelspec": {
      "name": "python3",
      "display_name": "Python 3"
    },
    "language_info": {
      "name": "python"
    }
  },
  "cells": [
    {
      "cell_type": "markdown",
      "source": [
        "* **Download side folder using code**\n",
        "* **Cut images from one folder to another**\n",
        "* **Delete folder files using code**\n",
        "* **Move folder to another folder**\n",
        "* **Count images in folder**\n",
        "\n"
      ],
      "metadata": {
        "id": "b63lEOl38aig"
      }
    },
    {
      "cell_type": "markdown",
      "source": [
        "\n",
        "\n",
        "## Download side folder using code"
      ],
      "metadata": {
        "id": "WA9bfjkW66vL"
      }
    },
    {
      "cell_type": "code",
      "source": [
        "import shutil\n",
        "\n",
        "folder_path = '/content/drive/MyDrive/Benetech/train/images'\n",
        "\n",
        "# Create a ZIP archive of the folder\n",
        "shutil.make_archive('/content/folder_download', 'zip', folder_path)\n",
        "\n",
        "# Download the ZIP file\n",
        "from google.colab import files\n",
        "files.download('/content/folder_download.zip')\n"
      ],
      "metadata": {
        "colab": {
          "base_uri": "https://localhost:8080/",
          "height": 34
        },
        "id": "tiwEdZDz5tmj",
        "outputId": "46160d0a-6411-4326-b381-53a331d26173"
      },
      "execution_count": null,
      "outputs": [
        {
          "output_type": "display_data",
          "data": {
            "text/plain": [
              "<IPython.core.display.Javascript object>"
            ],
            "application/javascript": [
              "\n",
              "    async function download(id, filename, size) {\n",
              "      if (!google.colab.kernel.accessAllowed) {\n",
              "        return;\n",
              "      }\n",
              "      const div = document.createElement('div');\n",
              "      const label = document.createElement('label');\n",
              "      label.textContent = `Downloading \"${filename}\": `;\n",
              "      div.appendChild(label);\n",
              "      const progress = document.createElement('progress');\n",
              "      progress.max = size;\n",
              "      div.appendChild(progress);\n",
              "      document.body.appendChild(div);\n",
              "\n",
              "      const buffers = [];\n",
              "      let downloaded = 0;\n",
              "\n",
              "      const channel = await google.colab.kernel.comms.open(id);\n",
              "      // Send a message to notify the kernel that we're ready.\n",
              "      channel.send({})\n",
              "\n",
              "      for await (const message of channel.messages) {\n",
              "        // Send a message to notify the kernel that we're ready.\n",
              "        channel.send({})\n",
              "        if (message.buffers) {\n",
              "          for (const buffer of message.buffers) {\n",
              "            buffers.push(buffer);\n",
              "            downloaded += buffer.byteLength;\n",
              "            progress.value = downloaded;\n",
              "          }\n",
              "        }\n",
              "      }\n",
              "      const blob = new Blob(buffers, {type: 'application/binary'});\n",
              "      const a = document.createElement('a');\n",
              "      a.href = window.URL.createObjectURL(blob);\n",
              "      a.download = filename;\n",
              "      div.appendChild(a);\n",
              "      a.click();\n",
              "      div.remove();\n",
              "    }\n",
              "  "
            ]
          },
          "metadata": {}
        },
        {
          "output_type": "display_data",
          "data": {
            "text/plain": [
              "<IPython.core.display.Javascript object>"
            ],
            "application/javascript": [
              "download(\"download_ffc1df8d-bf75-4db5-b9e6-569d87af72a4\", \"folder_download.zip\", 927814152)"
            ]
          },
          "metadata": {}
        }
      ]
    },
    {
      "cell_type": "markdown",
      "source": [
        "**Cut images from one folder to another**\n"
      ],
      "metadata": {
        "id": "RjLB4O1h8FRJ"
      }
    },
    {
      "cell_type": "code",
      "execution_count": null,
      "metadata": {
        "id": "tam0uQ5DHnH_"
      },
      "outputs": [],
      "source": [
        "import os\n",
        "import shutil\n",
        "\n",
        "source_folder = '/content/drive/MyDrive/Benetech/train/images'\n",
        "destination_folder = '/content/drive/MyDrive/Benetech/val/images'\n",
        "num_images_to_move = 12000\n",
        "\n",
        "# Get the list of all images in the source folder\n",
        "image_files = os.listdir(source_folder)\n",
        "image_files.sort()  # Sort the files in ascending order\n",
        "val_image =os.listdir(\"val/images\")\n",
        "for i in val_image:\n",
        "  print(i.split(\".\")[0])\n",
        "\n",
        "\n",
        "val_anno= os.listdir(\"train/annotations\")\n",
        "for i in val_anno:\n",
        "  print(i.split(\".\")[0])\n",
        "  image_files.find(code)\n",
        "\n",
        "  # Determine the range of files to move\n",
        "  start_index = len(image_files) - num_images_to_move\n",
        "  end_index = len(image_files)\n",
        "\n",
        "  # Create the destination folder if it doesn't exist\n",
        "  if not os.path.exists(destination_folder):\n",
        "      os.makedirs(destination_folder)\n",
        "\n",
        "  # Move the images from source folder to destination folder\n",
        "  for i in range(start_index, end_index):\n",
        "      source_path = os.path.join(source_folder, image_files[i])\n",
        "      destination_path = os.path.join(destination_folder, image_files[i])\n",
        "      shutil.move(source_path, destination_path)\n",
        "\n",
        "  print(f\"Moved {num_images_to_move} images from {source_folder} to {destination_folder}.\")\n"
      ]
    },
    {
      "cell_type": "markdown",
      "metadata": {
        "id": "yclgujVwcRpo"
      },
      "source": [
        "Delete folder files using code"
      ]
    },
    {
      "cell_type": "code",
      "execution_count": null,
      "metadata": {
        "id": "JrMXQ4IscQzZ"
      },
      "outputs": [],
      "source": [
        "import shutil\n",
        "\n",
        "folder_path = '/content/drive/MyDrive/Benetech/train'\n",
        "\n",
        "# Delete the entire folder and its contents\n",
        "shutil.rmtree(folder_path)"
      ]
    },
    {
      "cell_type": "code",
      "source": [
        "#Move folder to another folder"
      ],
      "metadata": {
        "id": "SKKL3ZoZW7_G"
      },
      "execution_count": null,
      "outputs": []
    },
    {
      "cell_type": "code",
      "source": [
        "import shutil\n",
        "\n",
        "source_folder = '/content/train'\n",
        "destination_folder = '/content/drive/MyDrive/Benetech'\n",
        "\n",
        "# Move the folder to the destination\n",
        "shutil.move(source_folder, destination_folder)"
      ],
      "metadata": {
        "id": "h1ALWapg-mSa"
      },
      "execution_count": null,
      "outputs": []
    },
    {
      "cell_type": "code",
      "execution_count": null,
      "metadata": {
        "id": "scksBx6tMAWp"
      },
      "outputs": [],
      "source": [
        "#count images in folder"
      ]
    },
    {
      "cell_type": "code",
      "execution_count": null,
      "metadata": {
        "colab": {
          "base_uri": "https://localhost:8080/"
        },
        "id": "S_XpALwYLt07",
        "outputId": "462a5cbf-0e5d-4272-d865-daf1ccbc3d19"
      },
      "outputs": [
        {
          "output_type": "stream",
          "name": "stdout",
          "text": [
            "Total number of images in the folder: 2000\n"
          ]
        }
      ],
      "source": [
        "import glob\n",
        "import pandas as pd\n",
        "import os\n",
        "\n",
        "folder_path = '/content/drive/MyDrive/benetech_data/test/images'\n",
        "\n",
        "# Define the file extension(s) of the image files\n",
        "image_extensions = ['json', 'jpeg', 'png', 'jpg', 'bmp']\n",
        "\n",
        "# Construct the file pattern to search for image files\n",
        "file_pattern = os.path.join(folder_path, '*.*')\n",
        "\n",
        "# Use glob to find all files matching the pattern\n",
        "image_files = glob.glob(file_pattern)\n",
        "\n",
        "# Filter the image files based on the file extensions\n",
        "image_files = [file for file in image_files if file.lower().endswith(tuple(image_extensions))]\n",
        "\n",
        "# Create a DataFrame with the image files\n",
        "df = pd.DataFrame({'Image Files': image_files})\n",
        "\n",
        "# Count the number of image files\n",
        "total_images = df.shape[0]\n",
        "\n",
        "print(f\"Total number of images in the folder: {total_images}\")\n"
      ]
    },
    {
      "cell_type": "markdown",
      "metadata": {
        "id": "LYu4_I6NdyXb"
      },
      "source": [
        "copy one folder to another folder"
      ]
    },
    {
      "cell_type": "code",
      "execution_count": null,
      "metadata": {
        "colab": {
          "base_uri": "https://localhost:8080/",
          "height": 380
        },
        "id": "xAma7jvgd5wx",
        "outputId": "79a3141b-50a1-463c-c60c-a1375be60103"
      },
      "outputs": [
        {
          "ename": "FileExistsError",
          "evalue": "ignored",
          "output_type": "error",
          "traceback": [
            "\u001b[0;31m---------------------------------------------------------------------------\u001b[0m",
            "\u001b[0;31mFileExistsError\u001b[0m                           Traceback (most recent call last)",
            "\u001b[0;32m<ipython-input-22-3c37229f01d8>\u001b[0m in \u001b[0;36m<cell line: 7>\u001b[0;34m()\u001b[0m\n\u001b[1;32m      5\u001b[0m \u001b[0;34m\u001b[0m\u001b[0m\n\u001b[1;32m      6\u001b[0m \u001b[0;31m# Copy the folder and its contents to the destination\u001b[0m\u001b[0;34m\u001b[0m\u001b[0;34m\u001b[0m\u001b[0m\n\u001b[0;32m----> 7\u001b[0;31m \u001b[0mshutil\u001b[0m\u001b[0;34m.\u001b[0m\u001b[0mcopytree\u001b[0m\u001b[0;34m(\u001b[0m\u001b[0msource_folder\u001b[0m\u001b[0;34m,\u001b[0m \u001b[0mdestination_folder\u001b[0m\u001b[0;34m)\u001b[0m\u001b[0;34m\u001b[0m\u001b[0;34m\u001b[0m\u001b[0m\n\u001b[0m\u001b[1;32m      8\u001b[0m \u001b[0;34m\u001b[0m\u001b[0m\n\u001b[1;32m      9\u001b[0m \u001b[0;31m# Alternatively, you can use shutil.move() to move the folder instead of copying\u001b[0m\u001b[0;34m\u001b[0m\u001b[0;34m\u001b[0m\u001b[0m\n",
            "\u001b[0;32m/usr/lib/python3.10/shutil.py\u001b[0m in \u001b[0;36mcopytree\u001b[0;34m(src, dst, symlinks, ignore, copy_function, ignore_dangling_symlinks, dirs_exist_ok)\u001b[0m\n\u001b[1;32m    557\u001b[0m     \u001b[0;32mwith\u001b[0m \u001b[0mos\u001b[0m\u001b[0;34m.\u001b[0m\u001b[0mscandir\u001b[0m\u001b[0;34m(\u001b[0m\u001b[0msrc\u001b[0m\u001b[0;34m)\u001b[0m \u001b[0;32mas\u001b[0m \u001b[0mitr\u001b[0m\u001b[0;34m:\u001b[0m\u001b[0;34m\u001b[0m\u001b[0;34m\u001b[0m\u001b[0m\n\u001b[1;32m    558\u001b[0m         \u001b[0mentries\u001b[0m \u001b[0;34m=\u001b[0m \u001b[0mlist\u001b[0m\u001b[0;34m(\u001b[0m\u001b[0mitr\u001b[0m\u001b[0;34m)\u001b[0m\u001b[0;34m\u001b[0m\u001b[0;34m\u001b[0m\u001b[0m\n\u001b[0;32m--> 559\u001b[0;31m     return _copytree(entries=entries, src=src, dst=dst, symlinks=symlinks,\n\u001b[0m\u001b[1;32m    560\u001b[0m                      \u001b[0mignore\u001b[0m\u001b[0;34m=\u001b[0m\u001b[0mignore\u001b[0m\u001b[0;34m,\u001b[0m \u001b[0mcopy_function\u001b[0m\u001b[0;34m=\u001b[0m\u001b[0mcopy_function\u001b[0m\u001b[0;34m,\u001b[0m\u001b[0;34m\u001b[0m\u001b[0;34m\u001b[0m\u001b[0m\n\u001b[1;32m    561\u001b[0m                      \u001b[0mignore_dangling_symlinks\u001b[0m\u001b[0;34m=\u001b[0m\u001b[0mignore_dangling_symlinks\u001b[0m\u001b[0;34m,\u001b[0m\u001b[0;34m\u001b[0m\u001b[0;34m\u001b[0m\u001b[0m\n",
            "\u001b[0;32m/usr/lib/python3.10/shutil.py\u001b[0m in \u001b[0;36m_copytree\u001b[0;34m(entries, src, dst, symlinks, ignore, copy_function, ignore_dangling_symlinks, dirs_exist_ok)\u001b[0m\n\u001b[1;32m    455\u001b[0m         \u001b[0mignored_names\u001b[0m \u001b[0;34m=\u001b[0m \u001b[0mset\u001b[0m\u001b[0;34m(\u001b[0m\u001b[0;34m)\u001b[0m\u001b[0;34m\u001b[0m\u001b[0;34m\u001b[0m\u001b[0m\n\u001b[1;32m    456\u001b[0m \u001b[0;34m\u001b[0m\u001b[0m\n\u001b[0;32m--> 457\u001b[0;31m     \u001b[0mos\u001b[0m\u001b[0;34m.\u001b[0m\u001b[0mmakedirs\u001b[0m\u001b[0;34m(\u001b[0m\u001b[0mdst\u001b[0m\u001b[0;34m,\u001b[0m \u001b[0mexist_ok\u001b[0m\u001b[0;34m=\u001b[0m\u001b[0mdirs_exist_ok\u001b[0m\u001b[0;34m)\u001b[0m\u001b[0;34m\u001b[0m\u001b[0;34m\u001b[0m\u001b[0m\n\u001b[0m\u001b[1;32m    458\u001b[0m     \u001b[0merrors\u001b[0m \u001b[0;34m=\u001b[0m \u001b[0;34m[\u001b[0m\u001b[0;34m]\u001b[0m\u001b[0;34m\u001b[0m\u001b[0;34m\u001b[0m\u001b[0m\n\u001b[1;32m    459\u001b[0m     \u001b[0muse_srcentry\u001b[0m \u001b[0;34m=\u001b[0m \u001b[0mcopy_function\u001b[0m \u001b[0;32mis\u001b[0m \u001b[0mcopy2\u001b[0m \u001b[0;32mor\u001b[0m \u001b[0mcopy_function\u001b[0m \u001b[0;32mis\u001b[0m \u001b[0mcopy\u001b[0m\u001b[0;34m\u001b[0m\u001b[0;34m\u001b[0m\u001b[0m\n",
            "\u001b[0;32m/usr/lib/python3.10/os.py\u001b[0m in \u001b[0;36mmakedirs\u001b[0;34m(name, mode, exist_ok)\u001b[0m\n\u001b[1;32m    223\u001b[0m             \u001b[0;32mreturn\u001b[0m\u001b[0;34m\u001b[0m\u001b[0;34m\u001b[0m\u001b[0m\n\u001b[1;32m    224\u001b[0m     \u001b[0;32mtry\u001b[0m\u001b[0;34m:\u001b[0m\u001b[0;34m\u001b[0m\u001b[0;34m\u001b[0m\u001b[0m\n\u001b[0;32m--> 225\u001b[0;31m         \u001b[0mmkdir\u001b[0m\u001b[0;34m(\u001b[0m\u001b[0mname\u001b[0m\u001b[0;34m,\u001b[0m \u001b[0mmode\u001b[0m\u001b[0;34m)\u001b[0m\u001b[0;34m\u001b[0m\u001b[0;34m\u001b[0m\u001b[0m\n\u001b[0m\u001b[1;32m    226\u001b[0m     \u001b[0;32mexcept\u001b[0m \u001b[0mOSError\u001b[0m\u001b[0;34m:\u001b[0m\u001b[0;34m\u001b[0m\u001b[0;34m\u001b[0m\u001b[0m\n\u001b[1;32m    227\u001b[0m         \u001b[0;31m# Cannot rely on checking for EEXIST, since the operating system\u001b[0m\u001b[0;34m\u001b[0m\u001b[0;34m\u001b[0m\u001b[0m\n",
            "\u001b[0;31mFileExistsError\u001b[0m: [Errno 17] File exists: '/content/drive/MyDrive/Benetech/train'"
          ]
        }
      ],
      "source": [
        "import shutil\n",
        "\n",
        "source_folder = '/content/train/images'\n",
        "destination_folder = '/content/drive/MyDrive/Benetech/train'\n",
        "\n",
        "# Copy the folder and its contents to the destination\n",
        "shutil.copytree(source_folder, destination_folder)\n",
        "\n",
        "# Alternatively, you can use shutil.move() to move the folder instead of copying\n",
        "# shutil.move(source_folder, destination_folder)\n",
        "\n",
        "print(\"Folder moved or copied successfully.\")\n"
      ]
    }
  ]
}